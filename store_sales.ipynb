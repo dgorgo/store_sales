{
 "cells": [
  {
   "cell_type": "markdown",
   "id": "ac0d233d",
   "metadata": {},
   "source": [
    "# Store-Sales Forecasting!"
   ]
  },
  {
   "cell_type": "markdown",
   "id": "614e99b4",
   "metadata": {},
   "source": [
    "#### Import Libraries"
   ]
  },
  {
   "cell_type": "code",
   "execution_count": 1,
   "id": "1bfe621e",
   "metadata": {},
   "outputs": [],
   "source": [
    "import numpy as np\n",
    "import pandas as pd\n",
    "import matplotlib.pyplot as plt\n",
    "import seaborn as sns"
   ]
  },
  {
   "cell_type": "code",
   "execution_count": 2,
   "id": "061c7d0c",
   "metadata": {},
   "outputs": [],
   "source": [
    "from prophet import Prophet\n",
    "from scipy import stats\n",
    "import scipy.signal as signal\n",
    "from sklearn.preprocessing import StandardScaler\n",
    "from sklearn.preprocessing import MinMaxScaler\n",
    "from statsmodels.tsa.seasonal import STL\n",
    "from sklearn.preprocessing import LabelEncoder\n",
    "from sklearn.ensemble import RandomForestRegressor\n",
    "from sklearn.metrics import mean_squared_error\n",
    "from sklearn.model_selection import train_test_split\n",
    "from sklearn.linear_model import LinearRegression\n",
    "from sklearn.metrics import mean_absolute_error, r2_score\n",
    "import tensorflow as tf\n",
    "import xgboost as xgb\n"
   ]
  },
  {
   "cell_type": "markdown",
   "id": "81a2f6b3",
   "metadata": {},
   "source": [
    "#### The Datasets\n",
    "\n",
    "##### Train\n",
    "##### store\n",
    "##### oil\n",
    "##### Transactions\n",
    "##### Holidays\n",
    "##### Test"
   ]
  },
  {
   "cell_type": "code",
   "execution_count": 3,
   "id": "a35d0143",
   "metadata": {},
   "outputs": [],
   "source": [
    "train_df = pd.read_csv('train.csv')"
   ]
  },
  {
   "cell_type": "code",
   "execution_count": 4,
   "id": "79b3e19c",
   "metadata": {},
   "outputs": [],
   "source": [
    "store_df = pd.read_csv('stores.csv')"
   ]
  },
  {
   "cell_type": "code",
   "execution_count": 5,
   "id": "3dfda4c2",
   "metadata": {},
   "outputs": [],
   "source": [
    "oil_df = pd.read_csv('oil.csv')"
   ]
  },
  {
   "cell_type": "code",
   "execution_count": 6,
   "id": "d97ed029",
   "metadata": {},
   "outputs": [],
   "source": [
    "trans_df = pd.read_csv('transactions.csv')"
   ]
  },
  {
   "cell_type": "code",
   "execution_count": 7,
   "id": "01806a25",
   "metadata": {},
   "outputs": [],
   "source": [
    "holly_df = pd.read_csv('holidays_events.csv')"
   ]
  },
  {
   "cell_type": "code",
   "execution_count": 8,
   "id": "edcb7d79",
   "metadata": {},
   "outputs": [
    {
     "data": {
      "text/plain": [
       "id             0\n",
       "date           0\n",
       "store_nbr      0\n",
       "family         0\n",
       "sales          0\n",
       "onpromotion    0\n",
       "dtype: int64"
      ]
     },
     "execution_count": 8,
     "metadata": {},
     "output_type": "execute_result"
    }
   ],
   "source": [
    "train_df.isna().sum()"
   ]
  },
  {
   "cell_type": "markdown",
   "id": "bdb70db0",
   "metadata": {},
   "source": [
    "##### Data Cleaning and Exploration"
   ]
  },
  {
   "cell_type": "code",
   "execution_count": 9,
   "id": "d00ced98",
   "metadata": {},
   "outputs": [
    {
     "data": {
      "text/html": [
       "<div>\n",
       "<style scoped>\n",
       "    .dataframe tbody tr th:only-of-type {\n",
       "        vertical-align: middle;\n",
       "    }\n",
       "\n",
       "    .dataframe tbody tr th {\n",
       "        vertical-align: top;\n",
       "    }\n",
       "\n",
       "    .dataframe thead th {\n",
       "        text-align: right;\n",
       "    }\n",
       "</style>\n",
       "<table border=\"1\" class=\"dataframe\">\n",
       "  <thead>\n",
       "    <tr style=\"text-align: right;\">\n",
       "      <th></th>\n",
       "      <th>id</th>\n",
       "      <th>store_nbr</th>\n",
       "      <th>sales</th>\n",
       "      <th>onpromotion</th>\n",
       "    </tr>\n",
       "  </thead>\n",
       "  <tbody>\n",
       "    <tr>\n",
       "      <th>id</th>\n",
       "      <td>1.000000</td>\n",
       "      <td>0.000301</td>\n",
       "      <td>0.085784</td>\n",
       "      <td>0.206260</td>\n",
       "    </tr>\n",
       "    <tr>\n",
       "      <th>store_nbr</th>\n",
       "      <td>0.000301</td>\n",
       "      <td>1.000000</td>\n",
       "      <td>0.041196</td>\n",
       "      <td>0.007286</td>\n",
       "    </tr>\n",
       "    <tr>\n",
       "      <th>sales</th>\n",
       "      <td>0.085784</td>\n",
       "      <td>0.041196</td>\n",
       "      <td>1.000000</td>\n",
       "      <td>0.427923</td>\n",
       "    </tr>\n",
       "    <tr>\n",
       "      <th>onpromotion</th>\n",
       "      <td>0.206260</td>\n",
       "      <td>0.007286</td>\n",
       "      <td>0.427923</td>\n",
       "      <td>1.000000</td>\n",
       "    </tr>\n",
       "  </tbody>\n",
       "</table>\n",
       "</div>"
      ],
      "text/plain": [
       "                   id  store_nbr     sales  onpromotion\n",
       "id           1.000000   0.000301  0.085784     0.206260\n",
       "store_nbr    0.000301   1.000000  0.041196     0.007286\n",
       "sales        0.085784   0.041196  1.000000     0.427923\n",
       "onpromotion  0.206260   0.007286  0.427923     1.000000"
      ]
     },
     "execution_count": 9,
     "metadata": {},
     "output_type": "execute_result"
    }
   ],
   "source": [
    "train_df.corr()"
   ]
  },
  {
   "cell_type": "code",
   "execution_count": 10,
   "id": "059ef9fc",
   "metadata": {},
   "outputs": [
    {
     "data": {
      "text/plain": [
       "store_nbr    0\n",
       "city         0\n",
       "state        0\n",
       "type         0\n",
       "cluster      0\n",
       "dtype: int64"
      ]
     },
     "execution_count": 10,
     "metadata": {},
     "output_type": "execute_result"
    }
   ],
   "source": [
    "store_df.isna().sum()"
   ]
  },
  {
   "cell_type": "code",
   "execution_count": 11,
   "id": "768ae49f",
   "metadata": {},
   "outputs": [
    {
     "data": {
      "text/html": [
       "<div>\n",
       "<style scoped>\n",
       "    .dataframe tbody tr th:only-of-type {\n",
       "        vertical-align: middle;\n",
       "    }\n",
       "\n",
       "    .dataframe tbody tr th {\n",
       "        vertical-align: top;\n",
       "    }\n",
       "\n",
       "    .dataframe thead th {\n",
       "        text-align: right;\n",
       "    }\n",
       "</style>\n",
       "<table border=\"1\" class=\"dataframe\">\n",
       "  <thead>\n",
       "    <tr style=\"text-align: right;\">\n",
       "      <th></th>\n",
       "      <th>store_nbr</th>\n",
       "      <th>cluster</th>\n",
       "    </tr>\n",
       "  </thead>\n",
       "  <tbody>\n",
       "    <tr>\n",
       "      <th>store_nbr</th>\n",
       "      <td>1.000000</td>\n",
       "      <td>-0.059284</td>\n",
       "    </tr>\n",
       "    <tr>\n",
       "      <th>cluster</th>\n",
       "      <td>-0.059284</td>\n",
       "      <td>1.000000</td>\n",
       "    </tr>\n",
       "  </tbody>\n",
       "</table>\n",
       "</div>"
      ],
      "text/plain": [
       "           store_nbr   cluster\n",
       "store_nbr   1.000000 -0.059284\n",
       "cluster    -0.059284  1.000000"
      ]
     },
     "execution_count": 11,
     "metadata": {},
     "output_type": "execute_result"
    }
   ],
   "source": [
    "store_df.corr()"
   ]
  },
  {
   "cell_type": "code",
   "execution_count": 12,
   "id": "b5c42112",
   "metadata": {},
   "outputs": [
    {
     "data": {
      "text/plain": [
       "date           0\n",
       "dcoilwtico    43\n",
       "dtype: int64"
      ]
     },
     "execution_count": 12,
     "metadata": {},
     "output_type": "execute_result"
    }
   ],
   "source": [
    "oil_df.isna().sum()"
   ]
  },
  {
   "cell_type": "code",
   "execution_count": 13,
   "id": "369e0ea0",
   "metadata": {},
   "outputs": [
    {
     "data": {
      "text/plain": [
       "(1218, 2)"
      ]
     },
     "execution_count": 13,
     "metadata": {},
     "output_type": "execute_result"
    }
   ],
   "source": [
    "oil_df.shape"
   ]
  },
  {
   "cell_type": "code",
   "execution_count": 14,
   "id": "b5f42eb4",
   "metadata": {},
   "outputs": [],
   "source": [
    "oil_df = oil_df.interpolate(method='linear', limit_direction='both')"
   ]
  },
  {
   "cell_type": "code",
   "execution_count": 15,
   "id": "c07fa247",
   "metadata": {},
   "outputs": [
    {
     "data": {
      "text/plain": [
       "date            0\n",
       "store_nbr       0\n",
       "transactions    0\n",
       "dtype: int64"
      ]
     },
     "execution_count": 15,
     "metadata": {},
     "output_type": "execute_result"
    }
   ],
   "source": [
    "trans_df.isna().sum()"
   ]
  },
  {
   "cell_type": "code",
   "execution_count": 16,
   "id": "b03013c3",
   "metadata": {},
   "outputs": [
    {
     "data": {
      "text/html": [
       "<div>\n",
       "<style scoped>\n",
       "    .dataframe tbody tr th:only-of-type {\n",
       "        vertical-align: middle;\n",
       "    }\n",
       "\n",
       "    .dataframe tbody tr th {\n",
       "        vertical-align: top;\n",
       "    }\n",
       "\n",
       "    .dataframe thead th {\n",
       "        text-align: right;\n",
       "    }\n",
       "</style>\n",
       "<table border=\"1\" class=\"dataframe\">\n",
       "  <thead>\n",
       "    <tr style=\"text-align: right;\">\n",
       "      <th></th>\n",
       "      <th>store_nbr</th>\n",
       "      <th>transactions</th>\n",
       "    </tr>\n",
       "  </thead>\n",
       "  <tbody>\n",
       "    <tr>\n",
       "      <th>store_nbr</th>\n",
       "      <td>1.000000</td>\n",
       "      <td>0.189311</td>\n",
       "    </tr>\n",
       "    <tr>\n",
       "      <th>transactions</th>\n",
       "      <td>0.189311</td>\n",
       "      <td>1.000000</td>\n",
       "    </tr>\n",
       "  </tbody>\n",
       "</table>\n",
       "</div>"
      ],
      "text/plain": [
       "              store_nbr  transactions\n",
       "store_nbr      1.000000      0.189311\n",
       "transactions   0.189311      1.000000"
      ]
     },
     "execution_count": 16,
     "metadata": {},
     "output_type": "execute_result"
    }
   ],
   "source": [
    "trans_df.corr()"
   ]
  },
  {
   "cell_type": "code",
   "execution_count": 17,
   "id": "bf9831b4",
   "metadata": {},
   "outputs": [
    {
     "data": {
      "text/plain": [
       "date           0\n",
       "type           0\n",
       "locale         0\n",
       "locale_name    0\n",
       "description    0\n",
       "transferred    0\n",
       "dtype: int64"
      ]
     },
     "execution_count": 17,
     "metadata": {},
     "output_type": "execute_result"
    }
   ],
   "source": [
    "holly_df.isna().sum()"
   ]
  },
  {
   "cell_type": "code",
   "execution_count": 18,
   "id": "213f6b86",
   "metadata": {},
   "outputs": [
    {
     "data": {
      "text/plain": [
       "Index(['id', 'date', 'store_nbr', 'family', 'sales', 'onpromotion'], dtype='object')"
      ]
     },
     "execution_count": 18,
     "metadata": {},
     "output_type": "execute_result"
    }
   ],
   "source": [
    "train_df.columns"
   ]
  },
  {
   "cell_type": "code",
   "execution_count": 19,
   "id": "6bc62b58",
   "metadata": {},
   "outputs": [
    {
     "data": {
      "text/plain": [
       "Index(['date', 'store_nbr', 'transactions'], dtype='object')"
      ]
     },
     "execution_count": 19,
     "metadata": {},
     "output_type": "execute_result"
    }
   ],
   "source": [
    "trans_df.columns"
   ]
  },
  {
   "cell_type": "code",
   "execution_count": 20,
   "id": "0e1c9406",
   "metadata": {},
   "outputs": [
    {
     "data": {
      "text/plain": [
       "Index(['date', 'type', 'locale', 'locale_name', 'description', 'transferred'], dtype='object')"
      ]
     },
     "execution_count": 20,
     "metadata": {},
     "output_type": "execute_result"
    }
   ],
   "source": [
    "holly_df.columns"
   ]
  },
  {
   "cell_type": "code",
   "execution_count": 21,
   "id": "e55b8c95",
   "metadata": {},
   "outputs": [
    {
     "data": {
      "text/plain": [
       "Index(['store_nbr', 'city', 'state', 'type', 'cluster'], dtype='object')"
      ]
     },
     "execution_count": 21,
     "metadata": {},
     "output_type": "execute_result"
    }
   ],
   "source": [
    "store_df.columns"
   ]
  },
  {
   "cell_type": "code",
   "execution_count": 22,
   "id": "a6a82ab8",
   "metadata": {},
   "outputs": [
    {
     "data": {
      "text/plain": [
       "Index(['date', 'dcoilwtico'], dtype='object')"
      ]
     },
     "execution_count": 22,
     "metadata": {},
     "output_type": "execute_result"
    }
   ],
   "source": [
    "oil_df.columns"
   ]
  },
  {
   "cell_type": "code",
   "execution_count": 23,
   "id": "9580c772",
   "metadata": {},
   "outputs": [],
   "source": [
    "# Merge train_df with trans_df on 'date' and 'store_nbr'\n",
    "merged_df = train_df.merge(trans_df, on=['date', 'store_nbr'], how='left')\n",
    "\n",
    "# Merge merged_df with holly_df on 'date'\n",
    "merged_df = merged_df.merge(holly_df, on='date', how='left')\n",
    "\n",
    "# Merge merged_df with store_df on 'store_nbr'\n",
    "merged_df = merged_df.merge(store_df, on='store_nbr', how='left')\n",
    "\n",
    "# Merge merged_df with oil_df on 'date'\n",
    "df = merged_df.merge(oil_df, on='date', how='left')"
   ]
  },
  {
   "cell_type": "code",
   "execution_count": 24,
   "id": "01ac676c",
   "metadata": {},
   "outputs": [
    {
     "name": "stdout",
     "output_type": "stream",
     "text": [
      "Index(['id', 'date', 'store_nbr', 'family', 'sales', 'onpromotion',\n",
      "       'transactions', 'type_x', 'locale', 'locale_name', 'description',\n",
      "       'transferred', 'city', 'state', 'type_y', 'cluster', 'dcoilwtico'],\n",
      "      dtype='object')\n"
     ]
    }
   ],
   "source": [
    "# Display the columns of the merged dataset\n",
    "print(df.columns)"
   ]
  },
  {
   "cell_type": "code",
   "execution_count": 25,
   "id": "dc66ae6d",
   "metadata": {},
   "outputs": [
    {
     "data": {
      "text/html": [
       "<div>\n",
       "<style scoped>\n",
       "    .dataframe tbody tr th:only-of-type {\n",
       "        vertical-align: middle;\n",
       "    }\n",
       "\n",
       "    .dataframe tbody tr th {\n",
       "        vertical-align: top;\n",
       "    }\n",
       "\n",
       "    .dataframe thead th {\n",
       "        text-align: right;\n",
       "    }\n",
       "</style>\n",
       "<table border=\"1\" class=\"dataframe\">\n",
       "  <thead>\n",
       "    <tr style=\"text-align: right;\">\n",
       "      <th></th>\n",
       "      <th>id</th>\n",
       "      <th>date</th>\n",
       "      <th>store_nbr</th>\n",
       "      <th>family</th>\n",
       "      <th>sales</th>\n",
       "      <th>onpromotion</th>\n",
       "      <th>transactions</th>\n",
       "      <th>type_x</th>\n",
       "      <th>locale</th>\n",
       "      <th>locale_name</th>\n",
       "      <th>description</th>\n",
       "      <th>transferred</th>\n",
       "      <th>city</th>\n",
       "      <th>state</th>\n",
       "      <th>type_y</th>\n",
       "      <th>cluster</th>\n",
       "      <th>dcoilwtico</th>\n",
       "    </tr>\n",
       "  </thead>\n",
       "  <tbody>\n",
       "    <tr>\n",
       "      <th>0</th>\n",
       "      <td>0</td>\n",
       "      <td>2013-01-01</td>\n",
       "      <td>1</td>\n",
       "      <td>AUTOMOTIVE</td>\n",
       "      <td>0.0</td>\n",
       "      <td>0</td>\n",
       "      <td>NaN</td>\n",
       "      <td>Holiday</td>\n",
       "      <td>National</td>\n",
       "      <td>Ecuador</td>\n",
       "      <td>Primer dia del ano</td>\n",
       "      <td>False</td>\n",
       "      <td>Quito</td>\n",
       "      <td>Pichincha</td>\n",
       "      <td>D</td>\n",
       "      <td>13</td>\n",
       "      <td>93.14</td>\n",
       "    </tr>\n",
       "    <tr>\n",
       "      <th>1</th>\n",
       "      <td>1</td>\n",
       "      <td>2013-01-01</td>\n",
       "      <td>1</td>\n",
       "      <td>BABY CARE</td>\n",
       "      <td>0.0</td>\n",
       "      <td>0</td>\n",
       "      <td>NaN</td>\n",
       "      <td>Holiday</td>\n",
       "      <td>National</td>\n",
       "      <td>Ecuador</td>\n",
       "      <td>Primer dia del ano</td>\n",
       "      <td>False</td>\n",
       "      <td>Quito</td>\n",
       "      <td>Pichincha</td>\n",
       "      <td>D</td>\n",
       "      <td>13</td>\n",
       "      <td>93.14</td>\n",
       "    </tr>\n",
       "    <tr>\n",
       "      <th>2</th>\n",
       "      <td>2</td>\n",
       "      <td>2013-01-01</td>\n",
       "      <td>1</td>\n",
       "      <td>BEAUTY</td>\n",
       "      <td>0.0</td>\n",
       "      <td>0</td>\n",
       "      <td>NaN</td>\n",
       "      <td>Holiday</td>\n",
       "      <td>National</td>\n",
       "      <td>Ecuador</td>\n",
       "      <td>Primer dia del ano</td>\n",
       "      <td>False</td>\n",
       "      <td>Quito</td>\n",
       "      <td>Pichincha</td>\n",
       "      <td>D</td>\n",
       "      <td>13</td>\n",
       "      <td>93.14</td>\n",
       "    </tr>\n",
       "    <tr>\n",
       "      <th>3</th>\n",
       "      <td>3</td>\n",
       "      <td>2013-01-01</td>\n",
       "      <td>1</td>\n",
       "      <td>BEVERAGES</td>\n",
       "      <td>0.0</td>\n",
       "      <td>0</td>\n",
       "      <td>NaN</td>\n",
       "      <td>Holiday</td>\n",
       "      <td>National</td>\n",
       "      <td>Ecuador</td>\n",
       "      <td>Primer dia del ano</td>\n",
       "      <td>False</td>\n",
       "      <td>Quito</td>\n",
       "      <td>Pichincha</td>\n",
       "      <td>D</td>\n",
       "      <td>13</td>\n",
       "      <td>93.14</td>\n",
       "    </tr>\n",
       "    <tr>\n",
       "      <th>4</th>\n",
       "      <td>4</td>\n",
       "      <td>2013-01-01</td>\n",
       "      <td>1</td>\n",
       "      <td>BOOKS</td>\n",
       "      <td>0.0</td>\n",
       "      <td>0</td>\n",
       "      <td>NaN</td>\n",
       "      <td>Holiday</td>\n",
       "      <td>National</td>\n",
       "      <td>Ecuador</td>\n",
       "      <td>Primer dia del ano</td>\n",
       "      <td>False</td>\n",
       "      <td>Quito</td>\n",
       "      <td>Pichincha</td>\n",
       "      <td>D</td>\n",
       "      <td>13</td>\n",
       "      <td>93.14</td>\n",
       "    </tr>\n",
       "  </tbody>\n",
       "</table>\n",
       "</div>"
      ],
      "text/plain": [
       "   id        date  store_nbr      family  sales  onpromotion  transactions  \\\n",
       "0   0  2013-01-01          1  AUTOMOTIVE    0.0            0           NaN   \n",
       "1   1  2013-01-01          1   BABY CARE    0.0            0           NaN   \n",
       "2   2  2013-01-01          1      BEAUTY    0.0            0           NaN   \n",
       "3   3  2013-01-01          1   BEVERAGES    0.0            0           NaN   \n",
       "4   4  2013-01-01          1       BOOKS    0.0            0           NaN   \n",
       "\n",
       "    type_x    locale locale_name         description transferred   city  \\\n",
       "0  Holiday  National     Ecuador  Primer dia del ano       False  Quito   \n",
       "1  Holiday  National     Ecuador  Primer dia del ano       False  Quito   \n",
       "2  Holiday  National     Ecuador  Primer dia del ano       False  Quito   \n",
       "3  Holiday  National     Ecuador  Primer dia del ano       False  Quito   \n",
       "4  Holiday  National     Ecuador  Primer dia del ano       False  Quito   \n",
       "\n",
       "       state type_y  cluster  dcoilwtico  \n",
       "0  Pichincha      D       13       93.14  \n",
       "1  Pichincha      D       13       93.14  \n",
       "2  Pichincha      D       13       93.14  \n",
       "3  Pichincha      D       13       93.14  \n",
       "4  Pichincha      D       13       93.14  "
      ]
     },
     "execution_count": 25,
     "metadata": {},
     "output_type": "execute_result"
    }
   ],
   "source": [
    "df.head()"
   ]
  },
  {
   "cell_type": "code",
   "execution_count": 26,
   "id": "abfee94a",
   "metadata": {},
   "outputs": [
    {
     "data": {
      "text/plain": [
       "(3054348, 17)"
      ]
     },
     "execution_count": 26,
     "metadata": {},
     "output_type": "execute_result"
    }
   ],
   "source": [
    "df.shape"
   ]
  },
  {
   "cell_type": "code",
   "execution_count": 27,
   "id": "a0ed9804",
   "metadata": {},
   "outputs": [
    {
     "data": {
      "text/plain": [
       "id                    0\n",
       "date                  0\n",
       "store_nbr             0\n",
       "family                0\n",
       "sales                 0\n",
       "onpromotion           0\n",
       "transactions     249117\n",
       "type_x          2551824\n",
       "locale          2551824\n",
       "locale_name     2551824\n",
       "description     2551824\n",
       "transferred     2551824\n",
       "city                  0\n",
       "state                 0\n",
       "type_y                0\n",
       "cluster               0\n",
       "dcoilwtico       878526\n",
       "dtype: int64"
      ]
     },
     "execution_count": 27,
     "metadata": {},
     "output_type": "execute_result"
    }
   ],
   "source": [
    "df.isna().sum()"
   ]
  },
  {
   "cell_type": "code",
   "execution_count": 28,
   "id": "5d794ff2",
   "metadata": {},
   "outputs": [
    {
     "data": {
      "text/plain": [
       "id                int64\n",
       "date             object\n",
       "store_nbr         int64\n",
       "family           object\n",
       "sales           float64\n",
       "onpromotion       int64\n",
       "transactions    float64\n",
       "type_x           object\n",
       "locale           object\n",
       "locale_name      object\n",
       "description      object\n",
       "transferred      object\n",
       "city             object\n",
       "state            object\n",
       "type_y           object\n",
       "cluster           int64\n",
       "dcoilwtico      float64\n",
       "dtype: object"
      ]
     },
     "execution_count": 28,
     "metadata": {},
     "output_type": "execute_result"
    }
   ],
   "source": [
    "df.dtypes"
   ]
  },
  {
   "cell_type": "code",
   "execution_count": 29,
   "id": "ef7c91a3",
   "metadata": {},
   "outputs": [],
   "source": [
    "# Select only the numeric columns from your DataFrame\n",
    "#numeric_cols = df.select_dtypes(include=['number'])\n",
    "\n",
    "# Initialize and fit the MinMaxScaler\n",
    "#min_max_scaler = MinMaxScaler()\n",
    "#scaled_data = min_max_scaler.fit_transform(numeric_cols)\n",
    "\n",
    "# Initialize and fit the StandardScaler\n",
    "#standard_scaler = StandardScaler()\n",
    "#normalized_data = standard_scaler.fit_transform(numeric_cols)"
   ]
  },
  {
   "cell_type": "code",
   "execution_count": 30,
   "id": "3416d6d3",
   "metadata": {},
   "outputs": [],
   "source": [
    "# Apply a Butterworth filter to the numeric columns\n",
    "#fs = 100  # sample rate\n",
    "#nyquist = fs / 2\n",
    "#cutoff_freq = 5  # cutoff frequency\n",
    "#b, a = signal.butter(2, cutoff_freq / nyquist, 'lowpass')\n",
    "\n",
    "#numeric_cols = df.select_dtypes(include=[np.number]).columns\n",
    "\n",
    "#for col in numeric_cols:\n",
    "#    df[col] = signal.filtfilt(b, a, df[col], padlen=1)"
   ]
  },
  {
   "cell_type": "code",
   "execution_count": 31,
   "id": "cdffac86",
   "metadata": {},
   "outputs": [],
   "source": [
    "#df = df.interpolate(method='linear', limit_direction='both')\n",
    "df = df.interpolate(method='ffill')\n",
    "  # filled based on neighboring data points"
   ]
  },
  {
   "cell_type": "code",
   "execution_count": 32,
   "id": "d3c1c981",
   "metadata": {},
   "outputs": [],
   "source": [
    "df['date'] = pd.to_datetime(df['date'])"
   ]
  },
  {
   "cell_type": "code",
   "execution_count": 33,
   "id": "a4f8acca",
   "metadata": {},
   "outputs": [
    {
     "data": {
      "text/plain": [
       "id                0\n",
       "date              0\n",
       "store_nbr         0\n",
       "family            0\n",
       "sales             0\n",
       "onpromotion       0\n",
       "transactions    561\n",
       "type_x            0\n",
       "locale            0\n",
       "locale_name       0\n",
       "description       0\n",
       "transferred       0\n",
       "city              0\n",
       "state             0\n",
       "type_y            0\n",
       "cluster           0\n",
       "dcoilwtico        0\n",
       "dtype: int64"
      ]
     },
     "execution_count": 33,
     "metadata": {},
     "output_type": "execute_result"
    }
   ],
   "source": [
    "df.isna().sum()"
   ]
  },
  {
   "cell_type": "code",
   "execution_count": 34,
   "id": "9b2ea8f5",
   "metadata": {},
   "outputs": [],
   "source": [
    "df = df.dropna(subset=['transactions'])"
   ]
  },
  {
   "cell_type": "code",
   "execution_count": 35,
   "id": "65af33fc",
   "metadata": {},
   "outputs": [
    {
     "data": {
      "text/html": [
       "<div>\n",
       "<style scoped>\n",
       "    .dataframe tbody tr th:only-of-type {\n",
       "        vertical-align: middle;\n",
       "    }\n",
       "\n",
       "    .dataframe tbody tr th {\n",
       "        vertical-align: top;\n",
       "    }\n",
       "\n",
       "    .dataframe thead th {\n",
       "        text-align: right;\n",
       "    }\n",
       "</style>\n",
       "<table border=\"1\" class=\"dataframe\">\n",
       "  <thead>\n",
       "    <tr style=\"text-align: right;\">\n",
       "      <th></th>\n",
       "      <th>id</th>\n",
       "      <th>date</th>\n",
       "      <th>store_nbr</th>\n",
       "      <th>family</th>\n",
       "      <th>sales</th>\n",
       "      <th>onpromotion</th>\n",
       "      <th>transactions</th>\n",
       "      <th>type_x</th>\n",
       "      <th>locale</th>\n",
       "      <th>locale_name</th>\n",
       "      <th>description</th>\n",
       "      <th>transferred</th>\n",
       "      <th>city</th>\n",
       "      <th>state</th>\n",
       "      <th>type_y</th>\n",
       "      <th>cluster</th>\n",
       "      <th>dcoilwtico</th>\n",
       "    </tr>\n",
       "  </thead>\n",
       "  <tbody>\n",
       "    <tr>\n",
       "      <th>561</th>\n",
       "      <td>561</td>\n",
       "      <td>2013-01-01</td>\n",
       "      <td>25</td>\n",
       "      <td>AUTOMOTIVE</td>\n",
       "      <td>0.0</td>\n",
       "      <td>0</td>\n",
       "      <td>770.0</td>\n",
       "      <td>Holiday</td>\n",
       "      <td>National</td>\n",
       "      <td>Ecuador</td>\n",
       "      <td>Primer dia del ano</td>\n",
       "      <td>False</td>\n",
       "      <td>Salinas</td>\n",
       "      <td>Santa Elena</td>\n",
       "      <td>D</td>\n",
       "      <td>1</td>\n",
       "      <td>93.14</td>\n",
       "    </tr>\n",
       "    <tr>\n",
       "      <th>562</th>\n",
       "      <td>562</td>\n",
       "      <td>2013-01-01</td>\n",
       "      <td>25</td>\n",
       "      <td>BABY CARE</td>\n",
       "      <td>0.0</td>\n",
       "      <td>0</td>\n",
       "      <td>770.0</td>\n",
       "      <td>Holiday</td>\n",
       "      <td>National</td>\n",
       "      <td>Ecuador</td>\n",
       "      <td>Primer dia del ano</td>\n",
       "      <td>False</td>\n",
       "      <td>Salinas</td>\n",
       "      <td>Santa Elena</td>\n",
       "      <td>D</td>\n",
       "      <td>1</td>\n",
       "      <td>93.14</td>\n",
       "    </tr>\n",
       "    <tr>\n",
       "      <th>563</th>\n",
       "      <td>563</td>\n",
       "      <td>2013-01-01</td>\n",
       "      <td>25</td>\n",
       "      <td>BEAUTY</td>\n",
       "      <td>2.0</td>\n",
       "      <td>0</td>\n",
       "      <td>770.0</td>\n",
       "      <td>Holiday</td>\n",
       "      <td>National</td>\n",
       "      <td>Ecuador</td>\n",
       "      <td>Primer dia del ano</td>\n",
       "      <td>False</td>\n",
       "      <td>Salinas</td>\n",
       "      <td>Santa Elena</td>\n",
       "      <td>D</td>\n",
       "      <td>1</td>\n",
       "      <td>93.14</td>\n",
       "    </tr>\n",
       "    <tr>\n",
       "      <th>564</th>\n",
       "      <td>564</td>\n",
       "      <td>2013-01-01</td>\n",
       "      <td>25</td>\n",
       "      <td>BEVERAGES</td>\n",
       "      <td>810.0</td>\n",
       "      <td>0</td>\n",
       "      <td>770.0</td>\n",
       "      <td>Holiday</td>\n",
       "      <td>National</td>\n",
       "      <td>Ecuador</td>\n",
       "      <td>Primer dia del ano</td>\n",
       "      <td>False</td>\n",
       "      <td>Salinas</td>\n",
       "      <td>Santa Elena</td>\n",
       "      <td>D</td>\n",
       "      <td>1</td>\n",
       "      <td>93.14</td>\n",
       "    </tr>\n",
       "    <tr>\n",
       "      <th>565</th>\n",
       "      <td>565</td>\n",
       "      <td>2013-01-01</td>\n",
       "      <td>25</td>\n",
       "      <td>BOOKS</td>\n",
       "      <td>0.0</td>\n",
       "      <td>0</td>\n",
       "      <td>770.0</td>\n",
       "      <td>Holiday</td>\n",
       "      <td>National</td>\n",
       "      <td>Ecuador</td>\n",
       "      <td>Primer dia del ano</td>\n",
       "      <td>False</td>\n",
       "      <td>Salinas</td>\n",
       "      <td>Santa Elena</td>\n",
       "      <td>D</td>\n",
       "      <td>1</td>\n",
       "      <td>93.14</td>\n",
       "    </tr>\n",
       "  </tbody>\n",
       "</table>\n",
       "</div>"
      ],
      "text/plain": [
       "      id       date  store_nbr      family  sales  onpromotion  transactions  \\\n",
       "561  561 2013-01-01         25  AUTOMOTIVE    0.0            0         770.0   \n",
       "562  562 2013-01-01         25   BABY CARE    0.0            0         770.0   \n",
       "563  563 2013-01-01         25      BEAUTY    2.0            0         770.0   \n",
       "564  564 2013-01-01         25   BEVERAGES  810.0            0         770.0   \n",
       "565  565 2013-01-01         25       BOOKS    0.0            0         770.0   \n",
       "\n",
       "      type_x    locale locale_name         description  transferred     city  \\\n",
       "561  Holiday  National     Ecuador  Primer dia del ano        False  Salinas   \n",
       "562  Holiday  National     Ecuador  Primer dia del ano        False  Salinas   \n",
       "563  Holiday  National     Ecuador  Primer dia del ano        False  Salinas   \n",
       "564  Holiday  National     Ecuador  Primer dia del ano        False  Salinas   \n",
       "565  Holiday  National     Ecuador  Primer dia del ano        False  Salinas   \n",
       "\n",
       "           state type_y  cluster  dcoilwtico  \n",
       "561  Santa Elena      D        1       93.14  \n",
       "562  Santa Elena      D        1       93.14  \n",
       "563  Santa Elena      D        1       93.14  \n",
       "564  Santa Elena      D        1       93.14  \n",
       "565  Santa Elena      D        1       93.14  "
      ]
     },
     "execution_count": 35,
     "metadata": {},
     "output_type": "execute_result"
    }
   ],
   "source": [
    "df.head()"
   ]
  },
  {
   "cell_type": "code",
   "execution_count": 36,
   "id": "85dc1c21",
   "metadata": {},
   "outputs": [
    {
     "name": "stdout",
     "output_type": "stream",
     "text": [
      "<class 'pandas.core.frame.DataFrame'>\n",
      "Int64Index: 3053787 entries, 561 to 3054347\n",
      "Data columns (total 17 columns):\n",
      " #   Column        Dtype         \n",
      "---  ------        -----         \n",
      " 0   id            int64         \n",
      " 1   date          datetime64[ns]\n",
      " 2   store_nbr     int64         \n",
      " 3   family        object        \n",
      " 4   sales         float64       \n",
      " 5   onpromotion   int64         \n",
      " 6   transactions  float64       \n",
      " 7   type_x        object        \n",
      " 8   locale        object        \n",
      " 9   locale_name   object        \n",
      " 10  description   object        \n",
      " 11  transferred   bool          \n",
      " 12  city          object        \n",
      " 13  state         object        \n",
      " 14  type_y        object        \n",
      " 15  cluster       int64         \n",
      " 16  dcoilwtico    float64       \n",
      "dtypes: bool(1), datetime64[ns](1), float64(3), int64(4), object(8)\n",
      "memory usage: 399.0+ MB\n"
     ]
    }
   ],
   "source": [
    "df.info()"
   ]
  },
  {
   "cell_type": "code",
   "execution_count": 37,
   "id": "e9cb79fc",
   "metadata": {},
   "outputs": [
    {
     "data": {
      "text/html": [
       "<div>\n",
       "<style scoped>\n",
       "    .dataframe tbody tr th:only-of-type {\n",
       "        vertical-align: middle;\n",
       "    }\n",
       "\n",
       "    .dataframe tbody tr th {\n",
       "        vertical-align: top;\n",
       "    }\n",
       "\n",
       "    .dataframe thead th {\n",
       "        text-align: right;\n",
       "    }\n",
       "</style>\n",
       "<table border=\"1\" class=\"dataframe\">\n",
       "  <thead>\n",
       "    <tr style=\"text-align: right;\">\n",
       "      <th></th>\n",
       "      <th>id</th>\n",
       "      <th>store_nbr</th>\n",
       "      <th>sales</th>\n",
       "      <th>onpromotion</th>\n",
       "      <th>transactions</th>\n",
       "      <th>cluster</th>\n",
       "      <th>dcoilwtico</th>\n",
       "    </tr>\n",
       "  </thead>\n",
       "  <tbody>\n",
       "    <tr>\n",
       "      <th>count</th>\n",
       "      <td>3.053787e+06</td>\n",
       "      <td>3.053787e+06</td>\n",
       "      <td>3.053787e+06</td>\n",
       "      <td>3.053787e+06</td>\n",
       "      <td>3.053787e+06</td>\n",
       "      <td>3.053787e+06</td>\n",
       "      <td>3.053787e+06</td>\n",
       "    </tr>\n",
       "    <tr>\n",
       "      <th>mean</th>\n",
       "      <td>1.504553e+06</td>\n",
       "      <td>2.750226e+01</td>\n",
       "      <td>3.590868e+02</td>\n",
       "      <td>2.617961e+00</td>\n",
       "      <td>1.689590e+03</td>\n",
       "      <td>8.481159e+00</td>\n",
       "      <td>6.784566e+01</td>\n",
       "    </tr>\n",
       "    <tr>\n",
       "      <th>std</th>\n",
       "      <td>8.661007e+05</td>\n",
       "      <td>1.558608e+01</td>\n",
       "      <td>1.107377e+03</td>\n",
       "      <td>1.225601e+01</td>\n",
       "      <td>9.383528e+02</td>\n",
       "      <td>4.649661e+00</td>\n",
       "      <td>2.566581e+01</td>\n",
       "    </tr>\n",
       "    <tr>\n",
       "      <th>min</th>\n",
       "      <td>5.610000e+02</td>\n",
       "      <td>1.000000e+00</td>\n",
       "      <td>0.000000e+00</td>\n",
       "      <td>0.000000e+00</td>\n",
       "      <td>5.000000e+00</td>\n",
       "      <td>1.000000e+00</td>\n",
       "      <td>2.619000e+01</td>\n",
       "    </tr>\n",
       "    <tr>\n",
       "      <th>25%</th>\n",
       "      <td>7.550975e+05</td>\n",
       "      <td>1.400000e+01</td>\n",
       "      <td>0.000000e+00</td>\n",
       "      <td>0.000000e+00</td>\n",
       "      <td>1.055000e+03</td>\n",
       "      <td>4.000000e+00</td>\n",
       "      <td>4.632000e+01</td>\n",
       "    </tr>\n",
       "    <tr>\n",
       "      <th>50%</th>\n",
       "      <td>1.507852e+06</td>\n",
       "      <td>2.800000e+01</td>\n",
       "      <td>1.100000e+01</td>\n",
       "      <td>0.000000e+00</td>\n",
       "      <td>1.419000e+03</td>\n",
       "      <td>8.000000e+00</td>\n",
       "      <td>5.338000e+01</td>\n",
       "    </tr>\n",
       "    <tr>\n",
       "      <th>75%</th>\n",
       "      <td>2.255260e+06</td>\n",
       "      <td>4.100000e+01</td>\n",
       "      <td>1.962165e+02</td>\n",
       "      <td>0.000000e+00</td>\n",
       "      <td>2.035000e+03</td>\n",
       "      <td>1.300000e+01</td>\n",
       "      <td>9.572000e+01</td>\n",
       "    </tr>\n",
       "    <tr>\n",
       "      <th>max</th>\n",
       "      <td>3.000887e+06</td>\n",
       "      <td>5.400000e+01</td>\n",
       "      <td>1.247170e+05</td>\n",
       "      <td>7.410000e+02</td>\n",
       "      <td>8.359000e+03</td>\n",
       "      <td>1.700000e+01</td>\n",
       "      <td>1.106200e+02</td>\n",
       "    </tr>\n",
       "  </tbody>\n",
       "</table>\n",
       "</div>"
      ],
      "text/plain": [
       "                 id     store_nbr         sales   onpromotion  transactions  \\\n",
       "count  3.053787e+06  3.053787e+06  3.053787e+06  3.053787e+06  3.053787e+06   \n",
       "mean   1.504553e+06  2.750226e+01  3.590868e+02  2.617961e+00  1.689590e+03   \n",
       "std    8.661007e+05  1.558608e+01  1.107377e+03  1.225601e+01  9.383528e+02   \n",
       "min    5.610000e+02  1.000000e+00  0.000000e+00  0.000000e+00  5.000000e+00   \n",
       "25%    7.550975e+05  1.400000e+01  0.000000e+00  0.000000e+00  1.055000e+03   \n",
       "50%    1.507852e+06  2.800000e+01  1.100000e+01  0.000000e+00  1.419000e+03   \n",
       "75%    2.255260e+06  4.100000e+01  1.962165e+02  0.000000e+00  2.035000e+03   \n",
       "max    3.000887e+06  5.400000e+01  1.247170e+05  7.410000e+02  8.359000e+03   \n",
       "\n",
       "            cluster    dcoilwtico  \n",
       "count  3.053787e+06  3.053787e+06  \n",
       "mean   8.481159e+00  6.784566e+01  \n",
       "std    4.649661e+00  2.566581e+01  \n",
       "min    1.000000e+00  2.619000e+01  \n",
       "25%    4.000000e+00  4.632000e+01  \n",
       "50%    8.000000e+00  5.338000e+01  \n",
       "75%    1.300000e+01  9.572000e+01  \n",
       "max    1.700000e+01  1.106200e+02  "
      ]
     },
     "execution_count": 37,
     "metadata": {},
     "output_type": "execute_result"
    }
   ],
   "source": [
    "df.describe()"
   ]
  },
  {
   "cell_type": "code",
   "execution_count": 38,
   "id": "1f05b965",
   "metadata": {},
   "outputs": [
    {
     "data": {
      "text/html": [
       "<div>\n",
       "<style scoped>\n",
       "    .dataframe tbody tr th:only-of-type {\n",
       "        vertical-align: middle;\n",
       "    }\n",
       "\n",
       "    .dataframe tbody tr th {\n",
       "        vertical-align: top;\n",
       "    }\n",
       "\n",
       "    .dataframe thead th {\n",
       "        text-align: right;\n",
       "    }\n",
       "</style>\n",
       "<table border=\"1\" class=\"dataframe\">\n",
       "  <thead>\n",
       "    <tr style=\"text-align: right;\">\n",
       "      <th></th>\n",
       "      <th>id</th>\n",
       "      <th>store_nbr</th>\n",
       "      <th>sales</th>\n",
       "      <th>onpromotion</th>\n",
       "      <th>transactions</th>\n",
       "      <th>transferred</th>\n",
       "      <th>cluster</th>\n",
       "      <th>dcoilwtico</th>\n",
       "    </tr>\n",
       "  </thead>\n",
       "  <tbody>\n",
       "    <tr>\n",
       "      <th>id</th>\n",
       "      <td>1.000000</td>\n",
       "      <td>0.000049</td>\n",
       "      <td>0.086023</td>\n",
       "      <td>0.206022</td>\n",
       "      <td>-0.017518</td>\n",
       "      <td>0.097305</td>\n",
       "      <td>0.000077</td>\n",
       "      <td>-0.839231</td>\n",
       "    </tr>\n",
       "    <tr>\n",
       "      <th>store_nbr</th>\n",
       "      <td>0.000049</td>\n",
       "      <td>1.000000</td>\n",
       "      <td>0.041230</td>\n",
       "      <td>0.007714</td>\n",
       "      <td>0.169067</td>\n",
       "      <td>-0.000017</td>\n",
       "      <td>-0.059205</td>\n",
       "      <td>0.000143</td>\n",
       "    </tr>\n",
       "    <tr>\n",
       "      <th>sales</th>\n",
       "      <td>0.086023</td>\n",
       "      <td>0.041230</td>\n",
       "      <td>1.000000</td>\n",
       "      <td>0.428234</td>\n",
       "      <td>0.213019</td>\n",
       "      <td>-0.000424</td>\n",
       "      <td>0.038564</td>\n",
       "      <td>-0.075405</td>\n",
       "    </tr>\n",
       "    <tr>\n",
       "      <th>onpromotion</th>\n",
       "      <td>0.206022</td>\n",
       "      <td>0.007714</td>\n",
       "      <td>0.428234</td>\n",
       "      <td>1.000000</td>\n",
       "      <td>0.027058</td>\n",
       "      <td>0.020779</td>\n",
       "      <td>0.005717</td>\n",
       "      <td>-0.154720</td>\n",
       "    </tr>\n",
       "    <tr>\n",
       "      <th>transactions</th>\n",
       "      <td>-0.017518</td>\n",
       "      <td>0.169067</td>\n",
       "      <td>0.213019</td>\n",
       "      <td>0.027058</td>\n",
       "      <td>1.000000</td>\n",
       "      <td>-0.018120</td>\n",
       "      <td>0.195544</td>\n",
       "      <td>0.014281</td>\n",
       "    </tr>\n",
       "    <tr>\n",
       "      <th>transferred</th>\n",
       "      <td>0.097305</td>\n",
       "      <td>-0.000017</td>\n",
       "      <td>-0.000424</td>\n",
       "      <td>0.020779</td>\n",
       "      <td>-0.018120</td>\n",
       "      <td>1.000000</td>\n",
       "      <td>0.000008</td>\n",
       "      <td>-0.076807</td>\n",
       "    </tr>\n",
       "    <tr>\n",
       "      <th>cluster</th>\n",
       "      <td>0.000077</td>\n",
       "      <td>-0.059205</td>\n",
       "      <td>0.038564</td>\n",
       "      <td>0.005717</td>\n",
       "      <td>0.195544</td>\n",
       "      <td>0.000008</td>\n",
       "      <td>1.000000</td>\n",
       "      <td>-0.000068</td>\n",
       "    </tr>\n",
       "    <tr>\n",
       "      <th>dcoilwtico</th>\n",
       "      <td>-0.839231</td>\n",
       "      <td>0.000143</td>\n",
       "      <td>-0.075405</td>\n",
       "      <td>-0.154720</td>\n",
       "      <td>0.014281</td>\n",
       "      <td>-0.076807</td>\n",
       "      <td>-0.000068</td>\n",
       "      <td>1.000000</td>\n",
       "    </tr>\n",
       "  </tbody>\n",
       "</table>\n",
       "</div>"
      ],
      "text/plain": [
       "                    id  store_nbr     sales  onpromotion  transactions  \\\n",
       "id            1.000000   0.000049  0.086023     0.206022     -0.017518   \n",
       "store_nbr     0.000049   1.000000  0.041230     0.007714      0.169067   \n",
       "sales         0.086023   0.041230  1.000000     0.428234      0.213019   \n",
       "onpromotion   0.206022   0.007714  0.428234     1.000000      0.027058   \n",
       "transactions -0.017518   0.169067  0.213019     0.027058      1.000000   \n",
       "transferred   0.097305  -0.000017 -0.000424     0.020779     -0.018120   \n",
       "cluster       0.000077  -0.059205  0.038564     0.005717      0.195544   \n",
       "dcoilwtico   -0.839231   0.000143 -0.075405    -0.154720      0.014281   \n",
       "\n",
       "              transferred   cluster  dcoilwtico  \n",
       "id               0.097305  0.000077   -0.839231  \n",
       "store_nbr       -0.000017 -0.059205    0.000143  \n",
       "sales           -0.000424  0.038564   -0.075405  \n",
       "onpromotion      0.020779  0.005717   -0.154720  \n",
       "transactions    -0.018120  0.195544    0.014281  \n",
       "transferred      1.000000  0.000008   -0.076807  \n",
       "cluster          0.000008  1.000000   -0.000068  \n",
       "dcoilwtico      -0.076807 -0.000068    1.000000  "
      ]
     },
     "execution_count": 38,
     "metadata": {},
     "output_type": "execute_result"
    }
   ],
   "source": [
    "df.corr()"
   ]
  },
  {
   "cell_type": "code",
   "execution_count": 39,
   "id": "c6e6f029",
   "metadata": {},
   "outputs": [],
   "source": [
    "###### Based on correlation, Sales and promotion "
   ]
  },
  {
   "cell_type": "markdown",
   "id": "efa78029",
   "metadata": {},
   "source": [
    "#### Visualizations"
   ]
  },
  {
   "cell_type": "code",
   "execution_count": 40,
   "id": "e703484b",
   "metadata": {},
   "outputs": [
    {
     "name": "stdout",
     "output_type": "stream",
     "text": [
      "Top Selling Product Families:\n",
      "           family         sales\n",
      "12      GROCERY I  3.508273e+08\n",
      "3       BEVERAGES  2.216635e+08\n",
      "30        PRODUCE  1.254480e+08\n",
      "7        CLEANING  9.942102e+07\n",
      "8           DAIRY  6.582360e+07\n",
      "5    BREAD/BAKERY  4.295992e+07\n",
      "28        POULTRY  3.249445e+07\n",
      "24          MEATS  3.165100e+07\n",
      "25  PERSONAL CARE  2.510048e+07\n",
      "9            DELI  2.458563e+07\n"
     ]
    }
   ],
   "source": [
    "# Group the data by product family and calculate total sales for each family\n",
    "product_family_sales = df.groupby('family')['sales'].sum().reset_index()\n",
    "\n",
    "# Sort the data in descending order based on total sales\n",
    "product_family_sales = product_family_sales.sort_values(by='sales', ascending=False)\n",
    "\n",
    "# Display the top-selling product families\n",
    "top_selling_families = product_family_sales.head(10)  # You can adjust the number as needed\n",
    "print(\"Top Selling Product Families:\")\n",
    "print(top_selling_families)"
   ]
  },
  {
   "cell_type": "code",
   "execution_count": 41,
   "id": "8fa440cc",
   "metadata": {},
   "outputs": [],
   "source": [
    "# Filter the data for rows where 'onpromotion' is True\n",
    "promoted_data = df[df['onpromotion'] == 1]\n",
    "\n",
    "# Group the data by 'family' and sum the 'sales' for each family\n",
    "family_sales = promoted_data.groupby('family')['sales'].sum().reset_index()\n",
    "\n",
    "# Sort the data by sales in descending order to find the top 5 promoted families\n",
    "top_5_promoted_families = family_sales.sort_values(by='sales', ascending=False).head(5)"
   ]
  },
  {
   "cell_type": "code",
   "execution_count": 42,
   "id": "368f6358",
   "metadata": {},
   "outputs": [
    {
     "data": {
      "image/png": "[encoded data removed]",
      "text/plain": [
       "<Figure size 1000x600 with 1 Axes>"
      ]
     },
     "metadata": {},
     "output_type": "display_data"
    }
   ],
   "source": [
    "# Plot the bar chart for top five family products\n",
    "plt.figure(figsize=(10, 6))\n",
    "plt.bar(top_5_promoted_families['family'], top_5_promoted_families['sales'])\n",
    "plt.xlabel('Family')\n",
    "plt.ylabel('Total Sales (when promoted)')\n",
    "plt.title('Top 5 Families with the Highest Sales When Promoted')\n",
    "plt.xticks(rotation=45)  \n",
    "plt.show()"
   ]
  },
  {
   "cell_type": "code",
   "execution_count": 43,
   "id": "e37c979a",
   "metadata": {},
   "outputs": [],
   "source": [
    "# Group the data by 'cluster' and sum the 'sales' for each cluster\n",
    "cluster_sales = df.groupby('cluster')['sales'].sum().reset_index()\n",
    "\n",
    "# Sort the data by sales in descending order to find the cluster with the most sales\n",
    "cluster_sales = cluster_sales.sort_values(by='sales', ascending=False)"
   ]
  },
  {
   "cell_type": "code",
   "execution_count": 44,
   "id": "258ec0f9",
   "metadata": {},
   "outputs": [
    {
     "data": {
      "image/png": "[encoded data removed]",
      "text/plain": [
       "<Figure size 1000x600 with 1 Axes>"
      ]
     },
     "metadata": {},
     "output_type": "display_data"
    }
   ],
   "source": [
    "# Plot the bar chart\n",
    "plt.figure(figsize=(10, 6))\n",
    "plt.bar(cluster_sales['cluster'], cluster_sales['sales'])\n",
    "plt.xlabel('Cluster')\n",
    "plt.ylabel('Total Sales')\n",
    "plt.title('Total Sales by Cluster')\n",
    "plt.xticks(rotation=0) \n",
    "plt.show()"
   ]
  },
  {
   "cell_type": "code",
   "execution_count": 45,
   "id": "1f28a061",
   "metadata": {},
   "outputs": [],
   "source": [
    "# store stats\n",
    "store_type_sales = df.groupby('type_x')['sales'].agg(['sum', 'mean', 'median', 'min', 'max', 'count'])"
   ]
  },
  {
   "cell_type": "code",
   "execution_count": 46,
   "id": "81acba7d",
   "metadata": {},
   "outputs": [
    {
     "name": "stdout",
     "output_type": "stream",
     "text": [
      "Distribution of Sales Across Different Store Types:\n",
      "                     sum        mean  median  min         max    count\n",
      "type_x                                                                \n",
      "Additional  5.450187e+07  477.885351    20.0  0.0   31851.158   114048\n",
      "Bridge      7.054065e+06  359.864536     8.0  0.0   21367.000    19602\n",
      "Event       8.933258e+07  394.728484    13.0  0.0  124717.000   226314\n",
      "Holiday     7.796802e+08  347.609518    10.0  0.0   89576.360  2242977\n",
      "Transfer    1.237044e+08  420.720465    19.0  0.0   28998.662   294030\n",
      "Work Day    4.230164e+07  269.753328     3.0  0.0   21462.000   156816\n"
     ]
    }
   ],
   "source": [
    "# distribution of sales across different store types\n",
    "print(\"Distribution of Sales Across Different Store Types:\")\n",
    "print(store_type_sales)"
   ]
  },
  {
   "cell_type": "code",
   "execution_count": 47,
   "id": "99e76aae",
   "metadata": {},
   "outputs": [],
   "source": [
    "# Group the data by year and calculate the total sales for each year\n",
    "yearly_sales = df.groupby(df['date'].dt.year)['sales'].sum()"
   ]
  },
  {
   "cell_type": "code",
   "execution_count": 48,
   "id": "e7fe8f63",
   "metadata": {},
   "outputs": [
    {
     "data": {
      "image/png": "[encoded data removed]",
      "text/plain": [
       "<Figure size 1000x600 with 1 Axes>"
      ]
     },
     "metadata": {},
     "output_type": "display_data"
    }
   ],
   "source": [
    "# checking for trends\n",
    "\n",
    "plt.figure(figsize=(10, 6))  \n",
    "plt.plot(yearly_sales.index, yearly_sales.values, marker='o', linestyle='-', color='b')\n",
    "plt.xlabel('Year')\n",
    "plt.ylabel('Total Sales')\n",
    "plt.title('Overall Sales Trend Over the Years')\n",
    "plt.grid(True)\n",
    "plt.show()"
   ]
  },
  {
   "cell_type": "code",
   "execution_count": 49,
   "id": "4ca347a5",
   "metadata": {},
   "outputs": [
    {
     "data": {
      "text/plain": [
       "array([ 1, 10,  8,  3,  6,  2,  4,  9,  5, 11, 14, 17, 13, 15,  7, 12, 16],\n",
       "      dtype=int64)"
      ]
     },
     "execution_count": 49,
     "metadata": {},
     "output_type": "execute_result"
    }
   ],
   "source": [
    "df.cluster.unique()"
   ]
  },
  {
   "cell_type": "code",
   "execution_count": 50,
   "id": "3fb694dd",
   "metadata": {},
   "outputs": [],
   "source": [
    "# Group the data by cluster and calculate total sales for each cluster\n",
    "cluster_sales = df.groupby('cluster')['sales'].sum()"
   ]
  },
  {
   "cell_type": "code",
   "execution_count": 51,
   "id": "88b391db",
   "metadata": {},
   "outputs": [
    {
     "data": {
      "image/png": "[encoded data removed]",
      "text/plain": [
       "<Figure size 1000x600 with 1 Axes>"
      ]
     },
     "metadata": {},
     "output_type": "display_data"
    }
   ],
   "source": [
    "# Create a bar plot to visualize the relationship between store clusters and sales performance\n",
    "plt.figure(figsize=(10, 6))  # Set the figure size\n",
    "cluster_sales.plot(kind='bar', color='skyblue')\n",
    "plt.xlabel('Store Cluster')\n",
    "plt.ylabel('Total Sales')\n",
    "plt.title('Relationship Between Store Clusters and Sales Performance')\n",
    "plt.xticks(rotation=0)\n",
    "plt.show()"
   ]
  },
  {
   "cell_type": "code",
   "execution_count": 52,
   "id": "cc59b202",
   "metadata": {},
   "outputs": [
    {
     "data": {
      "image/png": "[encoded data removed]",
      "text/plain": [
       "<Figure size 1200x600 with 1 Axes>"
      ]
     },
     "metadata": {},
     "output_type": "display_data"
    }
   ],
   "source": [
    "# Visualize sales trends over time\n",
    "\n",
    "\n",
    "plt.figure(figsize=(12, 6))\n",
    "sns.lineplot(x='date', y='sales', data=df)\n",
    "plt.title('Sales Trend Over Time')\n",
    "plt.xlabel('Date')\n",
    "plt.ylabel('Sales')\n",
    "plt.xticks(rotation=45)\n",
    "plt.show()"
   ]
  },
  {
   "cell_type": "code",
   "execution_count": 53,
   "id": "66077c03",
   "metadata": {},
   "outputs": [
    {
     "name": "stdout",
     "output_type": "stream",
     "text": [
      "Store with the highest sales: Store 44.0\n",
      "Total Sales: 63356137.229999\n"
     ]
    }
   ],
   "source": [
    "# Group the data by store_nbr and calculate the total sales for each store\n",
    "store_sales = df.groupby('store_nbr')['sales'].sum().reset_index()\n",
    "\n",
    "# Find the store with the highest sales\n",
    "store_with_highest_sales = store_sales.loc[store_sales['sales'].idxmax()]\n",
    "\n",
    "# Display the store number and its total sales\n",
    "print(f\"Store with the highest sales: Store {store_with_highest_sales['store_nbr']}\")\n",
    "print(f\"Total Sales: {store_with_highest_sales['sales']}\")"
   ]
  },
  {
   "cell_type": "code",
   "execution_count": 54,
   "id": "9c71fc4d",
   "metadata": {},
   "outputs": [],
   "source": [
    "# Convert the 'date' column to numerical features\n",
    "df['date'] = pd.to_datetime(df['date'])\n",
    "df['year'] = df['date'].dt.year\n",
    "df['month'] = df['date'].dt.month\n",
    "df['day'] = df['date'].dt.day\n",
    "df['weekday'] = df['date'].dt.weekday"
   ]
  },
  {
   "cell_type": "code",
   "execution_count": 55,
   "id": "30c273b7",
   "metadata": {},
   "outputs": [],
   "source": [
    "df['day_of_week'] = df['date'].dt.dayofweek\n",
    "df['weekend'] = (df['day_of_week'] >= 5).astype(int)"
   ]
  },
  {
   "cell_type": "code",
   "execution_count": 56,
   "id": "68601a5c",
   "metadata": {},
   "outputs": [
    {
     "data": {
      "text/plain": [
       "<AxesSubplot:xlabel='day_of_week'>"
      ]
     },
     "execution_count": 56,
     "metadata": {},
     "output_type": "execute_result"
    },
    {
     "data": {
      "image/png": "[encoded data removed]",
      "text/plain": [
       "<Figure size 640x480 with 1 Axes>"
      ]
     },
     "metadata": {},
     "output_type": "display_data"
    }
   ],
   "source": [
    "df.groupby('day_of_week')['sales'].mean().plot.bar()"
   ]
  },
  {
   "cell_type": "code",
   "execution_count": 57,
   "id": "18fa36b1",
   "metadata": {},
   "outputs": [
    {
     "data": {
      "text/plain": [
       "<AxesSubplot:xlabel='weekend'>"
      ]
     },
     "execution_count": 57,
     "metadata": {},
     "output_type": "execute_result"
    },
    {
     "data": {
      "image/png": "[encoded data removed]",
      "text/plain": [
       "<Figure size 640x480 with 1 Axes>"
      ]
     },
     "metadata": {},
     "output_type": "display_data"
    }
   ],
   "source": [
    "df.groupby('weekend')['sales'].mean().plot.bar()"
   ]
  },
  {
   "cell_type": "code",
   "execution_count": 58,
   "id": "5da4ca7d",
   "metadata": {},
   "outputs": [],
   "source": [
    "# Group the data by month and calculate the mean sales for each month\n",
    "monthly_sales = df.groupby(df['date'].dt.to_period('M'))['sales'].mean()\n",
    "# Convert the PeriodIndex to DatetimeIndex\n",
    "monthly_sales.index = monthly_sales.index.to_timestamp()"
   ]
  },
  {
   "cell_type": "code",
   "execution_count": 59,
   "id": "3beadd07",
   "metadata": {},
   "outputs": [],
   "source": [
    "# Calculate a simple moving average for a smoother trend\n",
    "window = 12  # 12 for the months in a year\n",
    "rolling_mean = monthly_sales.rolling(window=window).mean()"
   ]
  },
  {
   "cell_type": "code",
   "execution_count": 60,
   "id": "27f4ac0b",
   "metadata": {},
   "outputs": [
    {
     "data": {
      "image/png": "[encoded data removed]",
      "text/plain": [
       "<Figure size 1200x600 with 1 Axes>"
      ]
     },
     "metadata": {},
     "output_type": "display_data"
    }
   ],
   "source": [
    "# Plot the monthly sales and the rolling mean to assess seasonality\n",
    "plt.figure(figsize=(12, 6))\n",
    "plt.plot(monthly_sales, label='Monthly Sales')\n",
    "plt.plot(rolling_mean, label=f'{window}-Month Rolling Mean', color='orange')\n",
    "plt.xlabel('Date')\n",
    "plt.ylabel('Sales')\n",
    "plt.title('Assessing Seasonality in Monthly Sales')\n",
    "plt.legend()\n",
    "plt.show()"
   ]
  },
  {
   "cell_type": "code",
   "execution_count": 61,
   "id": "36f0d820",
   "metadata": {},
   "outputs": [],
   "source": [
    "sales_df = df.copy()"
   ]
  },
  {
   "cell_type": "markdown",
   "id": "d9583894",
   "metadata": {},
   "source": [
    "#### Feature Engineering"
   ]
  },
  {
   "cell_type": "markdown",
   "id": "3375e844",
   "metadata": {},
   "source": [
    "#### Hypothesis 1 - Seasonal Sales Variations:\n",
    "Null Hypothesis (H0): There is no significant seasonal variation in sales. Alternative Hypothesis (H1): Sales exhibit significant seasonal patterns, such as increased sales during certain months.\n",
    "\n",
    "#### Hypothesis 2 - Promotion Effectiveness:\n",
    "Null Hypothesis (H0): Promotions have no significant impact on sales. Alternative Hypothesis (H1): Sales are significantly higher during promotional periods compared to non-promotional periods.\n",
    "\n",
    "#### Hypothesis 3 - Store Type Influence:\n",
    "Null Hypothesis (H0): The type of store has no significant effect on sales. Alternative Hypothesis (H1): Certain store types have significantly higher or lower sales compared to others.\n",
    "\n",
    "#### Hypothesis 4 - Cluster Performance:\n",
    "Null Hypothesis (H0): Store clusters have no significant impact on sales performance. Alternative Hypothesis (H1): Specific store clusters exhibit significantly different sales performance.\n",
    "\n",
    "#### Hypothesis 5 - Product Family Impact:\n",
    "Null Hypothesis (H0): The choice of product family does not significantly affect sales. Alternative Hypothesis (H1): Certain product families have a significant impact on sales, with higher or lower sales compared to others.\n",
    "\n",
    "#### Hypothesis 6 - Geographic Variations:\n",
    "Null Hypothesis (H0): Geographic location (city and state) has no significant effect on sales. Alternative Hypothesis (H1): Sales vary significantly based on the city or state where stores are located.\n",
    "\n",
    "#### Hypothesis 7 - Time Trend:\n",
    "Null Hypothesis (H0): There is no significant time trend in sales over the years. Alternative Hypothesis (H1): Sales show a significant increasing or decreasing trend over time.\n",
    "\n",
    "#### Hypothesis 8 - Impact of On-Promotion Products:\n",
    "Null Hypothesis (H0): The status of products being on promotion or not has no significant effect on sales. Alternative Hypothesis (H1): Sales of products on promotion are significantly different from those not on promotion."
   ]
  },
  {
   "cell_type": "code",
   "execution_count": 62,
   "id": "6d651ee7",
   "metadata": {},
   "outputs": [
    {
     "name": "stdout",
     "output_type": "stream",
     "text": [
      "Reject the Null Hypothesis (H0)\n",
      "Sales are significantly higher during promotional periods.\n"
     ]
    }
   ],
   "source": [
    "# Split the data into two groups: sales during promotions and sales without promotions\n",
    "sales_promo = sales_df[sales_df['onpromotion'] == 1]['sales']\n",
    "sales_no_promo = sales_df[sales_df['onpromotion'] == 0]['sales']\n",
    "\n",
    "# Perform a two-sample t-test to compare the means of the two groups\n",
    "t_stat, p_value = stats.ttest_ind(sales_promo, sales_no_promo, equal_var=False)\n",
    "\n",
    "# Define the significance level (alpha)\n",
    "alpha = 0.05\n",
    "\n",
    "# Check the p-value against the significance level to determine significance\n",
    "if p_value < alpha:\n",
    "    print(\"Reject the Null Hypothesis (H0)\")\n",
    "    print(\"Sales are significantly higher during promotional periods.\")\n",
    "else:\n",
    "    print(\"Fail to reject the Null Hypothesis (H0)\")\n",
    "    print(\"There is no significant difference in sales between promotional and non-promotional periods.\")"
   ]
  },
  {
   "cell_type": "code",
   "execution_count": 63,
   "id": "19893a64",
   "metadata": {},
   "outputs": [
    {
     "name": "stdout",
     "output_type": "stream",
     "text": [
      "Reject the Null Hypothesis (H0)\n",
      "There is a significant difference in sales across different store types.\n"
     ]
    }
   ],
   "source": [
    "# Perform an ANOVA test to compare sales across different store types\n",
    "store_types = sales_df['type_x'].unique()\n",
    "store_type_groups = [sales_df[sales_df['type_x'] == store_type]['sales'] for store_type in store_types]\n",
    "# Perform the ANOVA test\n",
    "f_stat, p_value = stats.f_oneway(*store_type_groups)\n",
    "\n",
    "# Define the significance level (alpha)\n",
    "alpha = 0.05\n",
    "\n",
    "# Check the p-value against the significance level to determine significance\n",
    "if p_value < alpha:\n",
    "    print(\"Reject the Null Hypothesis (H0)\")\n",
    "    print(\"There is a significant difference in sales across different store types.\")\n",
    "else:\n",
    "    print(\"Fail to reject the Null Hypothesis (H0)\")\n",
    "    print(\"The type of store does not have a significant effect on sales.\")"
   ]
  },
  {
   "cell_type": "code",
   "execution_count": 64,
   "id": "0b5910ed",
   "metadata": {},
   "outputs": [
    {
     "name": "stdout",
     "output_type": "stream",
     "text": [
      "Reject the Null Hypothesis (H0)\n",
      "There is a significant difference in sales performance across store clusters.\n"
     ]
    }
   ],
   "source": [
    "# Perform an ANOVA test to compare sales across different clusters\n",
    "clusters = sales_df['cluster'].unique()\n",
    "cluster_groups = [sales_df[sales_df['cluster'] == cluster]['sales'] for cluster in clusters]\n",
    "\n",
    "# Perform the ANOVA test\n",
    "f_stat, p_value = stats.f_oneway(*cluster_groups)\n",
    "\n",
    "# Define the significance level (alpha)\n",
    "alpha = 0.05\n",
    "\n",
    "# Check the p-value against the significance level to determine significance\n",
    "if p_value < alpha:\n",
    "    print(\"Reject the Null Hypothesis (H0)\")\n",
    "    print(\"There is a significant difference in sales performance across store clusters.\")\n",
    "else:\n",
    "    print(\"Fail to reject the Null Hypothesis (H0)\")\n",
    "    print(\"Store clusters do not have a significant impact on sales performance.\")"
   ]
  },
  {
   "cell_type": "code",
   "execution_count": 65,
   "id": "ecc933c5",
   "metadata": {},
   "outputs": [
    {
     "name": "stdout",
     "output_type": "stream",
     "text": [
      "Reject the Null Hypothesis (H0)\n",
      "Certain product families have a significant impact on sales.\n"
     ]
    }
   ],
   "source": [
    "# Perform an ANOVA test to compare sales across different product families\n",
    "product_families = sales_df['family'].unique()\n",
    "family_groups = [sales_df[sales_df['family'] == family]['sales'] for family in product_families]\n",
    "\n",
    "# Perform the ANOVA test\n",
    "f_stat, p_value = stats.f_oneway(*family_groups)\n",
    "\n",
    "# Define the significance level (alpha)\n",
    "alpha = 0.05\n",
    "\n",
    "# Check the p-value against the significance level to determine significance\n",
    "if p_value < alpha:\n",
    "    print(\"Reject the Null Hypothesis (H0)\")\n",
    "    print(\"Certain product families have a significant impact on sales.\")\n",
    "else:\n",
    "    print(\"Fail to reject the Null Hypothesis (H0)\")\n",
    "    print(\"The choice of product family does not significantly affect sales.\")"
   ]
  },
  {
   "cell_type": "code",
   "execution_count": 66,
   "id": "5f819aae",
   "metadata": {},
   "outputs": [
    {
     "name": "stdout",
     "output_type": "stream",
     "text": [
      "Reject the Null Hypothesis (H0)\n",
      "Sales vary significantly based on geographic location.\n"
     ]
    }
   ],
   "source": [
    "# Perform an ANOVA test to compare sales across different cities or states\n",
    "cities_states = sales_df['city'] + ', ' + sales_df['state']\n",
    "city_state_groups = [sales_df[cities_states == city_state]['sales'] for city_state in cities_states.unique()]\n",
    "\n",
    "# Perform the ANOVA test\n",
    "f_stat, p_value = stats.f_oneway(*city_state_groups)\n",
    "\n",
    "# Define the significance level (alpha)\n",
    "alpha = 0.05\n",
    "\n",
    "# Check the p-value against the significance level to determine significance\n",
    "if p_value < alpha:\n",
    "    print(\"Reject the Null Hypothesis (H0)\")\n",
    "    print(\"Sales vary significantly based on geographic location.\")\n",
    "else:\n",
    "    print(\"Fail to reject the Null Hypothesis (H0)\")\n",
    "    print(\"Geographic location does not have a significant effect on sales.\")"
   ]
  },
  {
   "cell_type": "code",
   "execution_count": 67,
   "id": "5e8072ea",
   "metadata": {},
   "outputs": [],
   "source": [
    "from scipy.stats import linregress"
   ]
  },
  {
   "cell_type": "code",
   "execution_count": 68,
   "id": "f68bc5a2",
   "metadata": {},
   "outputs": [
    {
     "name": "stdout",
     "output_type": "stream",
     "text": [
      "Fail to reject the Null Hypothesis (H0)\n",
      "There is no significant time trend in sales.\n"
     ]
    }
   ],
   "source": [
    "# Perform linear regression to assess the time trend\n",
    "slope, intercept, r_value, p_value, std_err = linregress(range(len(yearly_sales)), yearly_sales)\n",
    "\n",
    "# Define the significance level (alpha)\n",
    "alpha = 0.05\n",
    "\n",
    "# Check the p-value against the significance level to determine significance\n",
    "if p_value < alpha:\n",
    "    print(\"Reject the Null Hypothesis (H0)\")\n",
    "    print(\"Sales show a significant time trend.\")\n",
    "    print(f\"Annual Sales Trend (Slope): {slope:.2f}\")\n",
    "else:\n",
    "    print(\"Fail to reject the Null Hypothesis (H0)\")\n",
    "    print(\"There is no significant time trend in sales.\")"
   ]
  },
  {
   "cell_type": "code",
   "execution_count": 69,
   "id": "8ee65dfd",
   "metadata": {},
   "outputs": [
    {
     "name": "stdout",
     "output_type": "stream",
     "text": [
      "Reject the Null Hypothesis (H0)\n",
      "Sales of products on promotion are significantly different from those not on promotion.\n"
     ]
    }
   ],
   "source": [
    "# Split the data into two groups: sales during promotions and sales without promotions\n",
    "sales_promo = sales_df[sales_df['onpromotion'] == 1]['sales']\n",
    "sales_no_promo = sales_df[sales_df['onpromotion'] == 0]['sales']\n",
    "\n",
    "# Perform a two-sample t-test to compare the means of the two groups\n",
    "t_stat, p_value = stats.ttest_ind(sales_promo, sales_no_promo, equal_var=False)\n",
    "\n",
    "# Define the significance level (alpha)\n",
    "alpha = 0.05\n",
    "\n",
    "# Check the p-value against the significance level to determine significance\n",
    "if p_value < alpha:\n",
    "    print(\"Reject the Null Hypothesis (H0)\")\n",
    "    print(\"Sales of products on promotion are significantly different from those not on promotion.\")\n",
    "else:\n",
    "    print(\"Fail to reject the Null Hypothesis (H0)\")\n",
    "    print(\"The status of products being on promotion or not does not have a significant effect on sales.\")"
   ]
  },
  {
   "cell_type": "code",
   "execution_count": 70,
   "id": "d2555ca0",
   "metadata": {},
   "outputs": [],
   "source": [
    "holly_df['date'] = pd.to_datetime(holly_df['date'])"
   ]
  },
  {
   "cell_type": "code",
   "execution_count": 71,
   "id": "6f445758",
   "metadata": {},
   "outputs": [],
   "source": [
    "# Create a binary feature indicating whether a day is a holiday or not\n",
    "sales_df['is_holiday'] = sales_df['date'].isin(holly_df['date']).astype(int)\n",
    "\n",
    "# Sort the 'holiday_df' by date\n",
    "holly_df = holly_df.sort_values(by='date')\n",
    "\n",
    "# Generate features for days until the next holiday and days since the last holiday\n",
    "sales_df['days_until_next_holiday'] = sales_df['date'].sub(holly_df['date'].shift(-1)).dt.days\n",
    "sales_df['days_since_last_holiday'] = sales_df['date'].sub(holly_df['date'].shift(1)).dt.days\n",
    "\n",
    "# Replace NaN values in the new features with appropriate values\n",
    "sales_df['days_until_next_holiday'].fillna(sales_df['days_until_next_holiday'].max(), inplace=True)\n",
    "sales_df['days_since_last_holiday'].fillna(sales_df['days_since_last_holiday'].min(), inplace=True)"
   ]
  },
  {
   "cell_type": "code",
   "execution_count": 72,
   "id": "3dd1b731",
   "metadata": {},
   "outputs": [],
   "source": [
    "# Calculate average sales per day for each store\n",
    "store_sales_avg = sales_df.groupby('store_nbr')['sales'].mean().reset_index()\n",
    "store_sales_avg.rename(columns={'sales': 'avg_sales_per_day'}, inplace=True)"
   ]
  },
  {
   "cell_type": "code",
   "execution_count": 73,
   "id": "6fff52e2",
   "metadata": {},
   "outputs": [],
   "source": [
    "# Merge the calculated averages back into your main DataFrame\n",
    "sales_df = sales_df.merge(store_sales_avg, on='store_nbr', how='left')"
   ]
  },
  {
   "cell_type": "code",
   "execution_count": 74,
   "id": "008f9f84",
   "metadata": {},
   "outputs": [
    {
     "data": {
      "text/html": [
       "<div>\n",
       "<style scoped>\n",
       "    .dataframe tbody tr th:only-of-type {\n",
       "        vertical-align: middle;\n",
       "    }\n",
       "\n",
       "    .dataframe tbody tr th {\n",
       "        vertical-align: top;\n",
       "    }\n",
       "\n",
       "    .dataframe thead th {\n",
       "        text-align: right;\n",
       "    }\n",
       "</style>\n",
       "<table border=\"1\" class=\"dataframe\">\n",
       "  <thead>\n",
       "    <tr style=\"text-align: right;\">\n",
       "      <th></th>\n",
       "      <th>id</th>\n",
       "      <th>date</th>\n",
       "      <th>store_nbr</th>\n",
       "      <th>family</th>\n",
       "      <th>sales</th>\n",
       "      <th>onpromotion</th>\n",
       "      <th>transactions</th>\n",
       "      <th>type_x</th>\n",
       "      <th>locale</th>\n",
       "      <th>locale_name</th>\n",
       "      <th>...</th>\n",
       "      <th>state</th>\n",
       "      <th>type_y</th>\n",
       "      <th>cluster</th>\n",
       "      <th>dcoilwtico</th>\n",
       "      <th>year</th>\n",
       "      <th>month</th>\n",
       "      <th>day</th>\n",
       "      <th>weekday</th>\n",
       "      <th>day_of_week</th>\n",
       "      <th>weekend</th>\n",
       "    </tr>\n",
       "  </thead>\n",
       "  <tbody>\n",
       "    <tr>\n",
       "      <th>561</th>\n",
       "      <td>561</td>\n",
       "      <td>2013-01-01</td>\n",
       "      <td>25</td>\n",
       "      <td>AUTOMOTIVE</td>\n",
       "      <td>0.000</td>\n",
       "      <td>0</td>\n",
       "      <td>770.0</td>\n",
       "      <td>Holiday</td>\n",
       "      <td>National</td>\n",
       "      <td>Ecuador</td>\n",
       "      <td>...</td>\n",
       "      <td>Santa Elena</td>\n",
       "      <td>D</td>\n",
       "      <td>1</td>\n",
       "      <td>93.14</td>\n",
       "      <td>2013</td>\n",
       "      <td>1</td>\n",
       "      <td>1</td>\n",
       "      <td>1</td>\n",
       "      <td>1</td>\n",
       "      <td>0</td>\n",
       "    </tr>\n",
       "    <tr>\n",
       "      <th>562</th>\n",
       "      <td>562</td>\n",
       "      <td>2013-01-01</td>\n",
       "      <td>25</td>\n",
       "      <td>BABY CARE</td>\n",
       "      <td>0.000</td>\n",
       "      <td>0</td>\n",
       "      <td>770.0</td>\n",
       "      <td>Holiday</td>\n",
       "      <td>National</td>\n",
       "      <td>Ecuador</td>\n",
       "      <td>...</td>\n",
       "      <td>Santa Elena</td>\n",
       "      <td>D</td>\n",
       "      <td>1</td>\n",
       "      <td>93.14</td>\n",
       "      <td>2013</td>\n",
       "      <td>1</td>\n",
       "      <td>1</td>\n",
       "      <td>1</td>\n",
       "      <td>1</td>\n",
       "      <td>0</td>\n",
       "    </tr>\n",
       "    <tr>\n",
       "      <th>563</th>\n",
       "      <td>563</td>\n",
       "      <td>2013-01-01</td>\n",
       "      <td>25</td>\n",
       "      <td>BEAUTY</td>\n",
       "      <td>2.000</td>\n",
       "      <td>0</td>\n",
       "      <td>770.0</td>\n",
       "      <td>Holiday</td>\n",
       "      <td>National</td>\n",
       "      <td>Ecuador</td>\n",
       "      <td>...</td>\n",
       "      <td>Santa Elena</td>\n",
       "      <td>D</td>\n",
       "      <td>1</td>\n",
       "      <td>93.14</td>\n",
       "      <td>2013</td>\n",
       "      <td>1</td>\n",
       "      <td>1</td>\n",
       "      <td>1</td>\n",
       "      <td>1</td>\n",
       "      <td>0</td>\n",
       "    </tr>\n",
       "    <tr>\n",
       "      <th>564</th>\n",
       "      <td>564</td>\n",
       "      <td>2013-01-01</td>\n",
       "      <td>25</td>\n",
       "      <td>BEVERAGES</td>\n",
       "      <td>810.000</td>\n",
       "      <td>0</td>\n",
       "      <td>770.0</td>\n",
       "      <td>Holiday</td>\n",
       "      <td>National</td>\n",
       "      <td>Ecuador</td>\n",
       "      <td>...</td>\n",
       "      <td>Santa Elena</td>\n",
       "      <td>D</td>\n",
       "      <td>1</td>\n",
       "      <td>93.14</td>\n",
       "      <td>2013</td>\n",
       "      <td>1</td>\n",
       "      <td>1</td>\n",
       "      <td>1</td>\n",
       "      <td>1</td>\n",
       "      <td>0</td>\n",
       "    </tr>\n",
       "    <tr>\n",
       "      <th>565</th>\n",
       "      <td>565</td>\n",
       "      <td>2013-01-01</td>\n",
       "      <td>25</td>\n",
       "      <td>BOOKS</td>\n",
       "      <td>0.000</td>\n",
       "      <td>0</td>\n",
       "      <td>770.0</td>\n",
       "      <td>Holiday</td>\n",
       "      <td>National</td>\n",
       "      <td>Ecuador</td>\n",
       "      <td>...</td>\n",
       "      <td>Santa Elena</td>\n",
       "      <td>D</td>\n",
       "      <td>1</td>\n",
       "      <td>93.14</td>\n",
       "      <td>2013</td>\n",
       "      <td>1</td>\n",
       "      <td>1</td>\n",
       "      <td>1</td>\n",
       "      <td>1</td>\n",
       "      <td>0</td>\n",
       "    </tr>\n",
       "    <tr>\n",
       "      <th>...</th>\n",
       "      <td>...</td>\n",
       "      <td>...</td>\n",
       "      <td>...</td>\n",
       "      <td>...</td>\n",
       "      <td>...</td>\n",
       "      <td>...</td>\n",
       "      <td>...</td>\n",
       "      <td>...</td>\n",
       "      <td>...</td>\n",
       "      <td>...</td>\n",
       "      <td>...</td>\n",
       "      <td>...</td>\n",
       "      <td>...</td>\n",
       "      <td>...</td>\n",
       "      <td>...</td>\n",
       "      <td>...</td>\n",
       "      <td>...</td>\n",
       "      <td>...</td>\n",
       "      <td>...</td>\n",
       "      <td>...</td>\n",
       "      <td>...</td>\n",
       "    </tr>\n",
       "    <tr>\n",
       "      <th>3054343</th>\n",
       "      <td>3000883</td>\n",
       "      <td>2017-08-15</td>\n",
       "      <td>9</td>\n",
       "      <td>POULTRY</td>\n",
       "      <td>438.133</td>\n",
       "      <td>0</td>\n",
       "      <td>2155.0</td>\n",
       "      <td>Holiday</td>\n",
       "      <td>Local</td>\n",
       "      <td>Riobamba</td>\n",
       "      <td>...</td>\n",
       "      <td>Pichincha</td>\n",
       "      <td>B</td>\n",
       "      <td>6</td>\n",
       "      <td>47.57</td>\n",
       "      <td>2017</td>\n",
       "      <td>8</td>\n",
       "      <td>15</td>\n",
       "      <td>1</td>\n",
       "      <td>1</td>\n",
       "      <td>0</td>\n",
       "    </tr>\n",
       "    <tr>\n",
       "      <th>3054344</th>\n",
       "      <td>3000884</td>\n",
       "      <td>2017-08-15</td>\n",
       "      <td>9</td>\n",
       "      <td>PREPARED FOODS</td>\n",
       "      <td>154.553</td>\n",
       "      <td>1</td>\n",
       "      <td>2155.0</td>\n",
       "      <td>Holiday</td>\n",
       "      <td>Local</td>\n",
       "      <td>Riobamba</td>\n",
       "      <td>...</td>\n",
       "      <td>Pichincha</td>\n",
       "      <td>B</td>\n",
       "      <td>6</td>\n",
       "      <td>47.57</td>\n",
       "      <td>2017</td>\n",
       "      <td>8</td>\n",
       "      <td>15</td>\n",
       "      <td>1</td>\n",
       "      <td>1</td>\n",
       "      <td>0</td>\n",
       "    </tr>\n",
       "    <tr>\n",
       "      <th>3054345</th>\n",
       "      <td>3000885</td>\n",
       "      <td>2017-08-15</td>\n",
       "      <td>9</td>\n",
       "      <td>PRODUCE</td>\n",
       "      <td>2419.729</td>\n",
       "      <td>148</td>\n",
       "      <td>2155.0</td>\n",
       "      <td>Holiday</td>\n",
       "      <td>Local</td>\n",
       "      <td>Riobamba</td>\n",
       "      <td>...</td>\n",
       "      <td>Pichincha</td>\n",
       "      <td>B</td>\n",
       "      <td>6</td>\n",
       "      <td>47.57</td>\n",
       "      <td>2017</td>\n",
       "      <td>8</td>\n",
       "      <td>15</td>\n",
       "      <td>1</td>\n",
       "      <td>1</td>\n",
       "      <td>0</td>\n",
       "    </tr>\n",
       "    <tr>\n",
       "      <th>3054346</th>\n",
       "      <td>3000886</td>\n",
       "      <td>2017-08-15</td>\n",
       "      <td>9</td>\n",
       "      <td>SCHOOL AND OFFICE SUPPLIES</td>\n",
       "      <td>121.000</td>\n",
       "      <td>8</td>\n",
       "      <td>2155.0</td>\n",
       "      <td>Holiday</td>\n",
       "      <td>Local</td>\n",
       "      <td>Riobamba</td>\n",
       "      <td>...</td>\n",
       "      <td>Pichincha</td>\n",
       "      <td>B</td>\n",
       "      <td>6</td>\n",
       "      <td>47.57</td>\n",
       "      <td>2017</td>\n",
       "      <td>8</td>\n",
       "      <td>15</td>\n",
       "      <td>1</td>\n",
       "      <td>1</td>\n",
       "      <td>0</td>\n",
       "    </tr>\n",
       "    <tr>\n",
       "      <th>3054347</th>\n",
       "      <td>3000887</td>\n",
       "      <td>2017-08-15</td>\n",
       "      <td>9</td>\n",
       "      <td>SEAFOOD</td>\n",
       "      <td>16.000</td>\n",
       "      <td>0</td>\n",
       "      <td>2155.0</td>\n",
       "      <td>Holiday</td>\n",
       "      <td>Local</td>\n",
       "      <td>Riobamba</td>\n",
       "      <td>...</td>\n",
       "      <td>Pichincha</td>\n",
       "      <td>B</td>\n",
       "      <td>6</td>\n",
       "      <td>47.57</td>\n",
       "      <td>2017</td>\n",
       "      <td>8</td>\n",
       "      <td>15</td>\n",
       "      <td>1</td>\n",
       "      <td>1</td>\n",
       "      <td>0</td>\n",
       "    </tr>\n",
       "  </tbody>\n",
       "</table>\n",
       "<p>3053787 rows × 23 columns</p>\n",
       "</div>"
      ],
      "text/plain": [
       "              id       date  store_nbr                      family     sales  \\\n",
       "561          561 2013-01-01         25                  AUTOMOTIVE     0.000   \n",
       "562          562 2013-01-01         25                   BABY CARE     0.000   \n",
       "563          563 2013-01-01         25                      BEAUTY     2.000   \n",
       "564          564 2013-01-01         25                   BEVERAGES   810.000   \n",
       "565          565 2013-01-01         25                       BOOKS     0.000   \n",
       "...          ...        ...        ...                         ...       ...   \n",
       "3054343  3000883 2017-08-15          9                     POULTRY   438.133   \n",
       "3054344  3000884 2017-08-15          9              PREPARED FOODS   154.553   \n",
       "3054345  3000885 2017-08-15          9                     PRODUCE  2419.729   \n",
       "3054346  3000886 2017-08-15          9  SCHOOL AND OFFICE SUPPLIES   121.000   \n",
       "3054347  3000887 2017-08-15          9                     SEAFOOD    16.000   \n",
       "\n",
       "         onpromotion  transactions   type_x    locale locale_name  ...  \\\n",
       "561                0         770.0  Holiday  National     Ecuador  ...   \n",
       "562                0         770.0  Holiday  National     Ecuador  ...   \n",
       "563                0         770.0  Holiday  National     Ecuador  ...   \n",
       "564                0         770.0  Holiday  National     Ecuador  ...   \n",
       "565                0         770.0  Holiday  National     Ecuador  ...   \n",
       "...              ...           ...      ...       ...         ...  ...   \n",
       "3054343            0        2155.0  Holiday     Local    Riobamba  ...   \n",
       "3054344            1        2155.0  Holiday     Local    Riobamba  ...   \n",
       "3054345          148        2155.0  Holiday     Local    Riobamba  ...   \n",
       "3054346            8        2155.0  Holiday     Local    Riobamba  ...   \n",
       "3054347            0        2155.0  Holiday     Local    Riobamba  ...   \n",
       "\n",
       "               state  type_y cluster dcoilwtico  year  month  day  weekday  \\\n",
       "561      Santa Elena       D       1      93.14  2013      1    1        1   \n",
       "562      Santa Elena       D       1      93.14  2013      1    1        1   \n",
       "563      Santa Elena       D       1      93.14  2013      1    1        1   \n",
       "564      Santa Elena       D       1      93.14  2013      1    1        1   \n",
       "565      Santa Elena       D       1      93.14  2013      1    1        1   \n",
       "...              ...     ...     ...        ...   ...    ...  ...      ...   \n",
       "3054343    Pichincha       B       6      47.57  2017      8   15        1   \n",
       "3054344    Pichincha       B       6      47.57  2017      8   15        1   \n",
       "3054345    Pichincha       B       6      47.57  2017      8   15        1   \n",
       "3054346    Pichincha       B       6      47.57  2017      8   15        1   \n",
       "3054347    Pichincha       B       6      47.57  2017      8   15        1   \n",
       "\n",
       "         day_of_week  weekend  \n",
       "561                1        0  \n",
       "562                1        0  \n",
       "563                1        0  \n",
       "564                1        0  \n",
       "565                1        0  \n",
       "...              ...      ...  \n",
       "3054343            1        0  \n",
       "3054344            1        0  \n",
       "3054345            1        0  \n",
       "3054346            1        0  \n",
       "3054347            1        0  \n",
       "\n",
       "[3053787 rows x 23 columns]"
      ]
     },
     "execution_count": 74,
     "metadata": {},
     "output_type": "execute_result"
    }
   ],
   "source": [
    "df"
   ]
  },
  {
   "cell_type": "code",
   "execution_count": 75,
   "id": "7ebc4556",
   "metadata": {},
   "outputs": [],
   "source": [
    "# Calculate the number of items on promotion for each family on a given day\n",
    "promotion_features = sales_df.groupby(['date', 'family'])['onpromotion'].sum().reset_index()\n",
    "promotion_features.rename(columns={'onpromotion': 'family_promotion_count'}, inplace=True)\n",
    "sales_df = sales_df.merge(promotion_features, on=['date', 'family'], how='left')"
   ]
  },
  {
   "cell_type": "code",
   "execution_count": 76,
   "id": "6163f200",
   "metadata": {},
   "outputs": [],
   "source": [
    "oil_sales_data = sales_df[['date', 'sales', 'dcoilwtico']]"
   ]
  },
  {
   "cell_type": "code",
   "execution_count": 77,
   "id": "71e35825",
   "metadata": {},
   "outputs": [
    {
     "name": "stdout",
     "output_type": "stream",
     "text": [
      "Correlation between sales and oil prices: -0.0754052111371969\n"
     ]
    }
   ],
   "source": [
    " #Calculate correlation between oil prices and sales\n",
    "correlation = oil_sales_data['sales'].corr(oil_sales_data['dcoilwtico'])\n",
    "\n",
    "# Print the correlation coefficient\n",
    "print(f\"Correlation between sales and oil prices: {correlation}\")"
   ]
  },
  {
   "cell_type": "code",
   "execution_count": 78,
   "id": "35492d7e",
   "metadata": {},
   "outputs": [
    {
     "data": {
      "image/png": "[encoded data removed]",
      "text/plain": [
       "<Figure size 1000x600 with 1 Axes>"
      ]
     },
     "metadata": {},
     "output_type": "display_data"
    }
   ],
   "source": [
    "# Create a scatter plot\n",
    "plt.figure(figsize=(10, 6))\n",
    "sns.scatterplot(data=oil_sales_data, x='dcoilwtico', y='sales', alpha=0.5)\n",
    "plt.title(\"Oil Prices vs. Sales\")\n",
    "plt.xlabel(\"Oil Prices (dcoilwtico)\")\n",
    "plt.ylabel(\"Sales\")\n",
    "plt.grid(True)\n",
    "plt.show()"
   ]
  },
  {
   "cell_type": "markdown",
   "id": "3f224538",
   "metadata": {},
   "source": [
    "#### Model and Predictions"
   ]
  },
  {
   "cell_type": "code",
   "execution_count": 79,
   "id": "cb706cb6",
   "metadata": {},
   "outputs": [
    {
     "data": {
      "text/html": [
       "<div>\n",
       "<style scoped>\n",
       "    .dataframe tbody tr th:only-of-type {\n",
       "        vertical-align: middle;\n",
       "    }\n",
       "\n",
       "    .dataframe tbody tr th {\n",
       "        vertical-align: top;\n",
       "    }\n",
       "\n",
       "    .dataframe thead th {\n",
       "        text-align: right;\n",
       "    }\n",
       "</style>\n",
       "<table border=\"1\" class=\"dataframe\">\n",
       "  <thead>\n",
       "    <tr style=\"text-align: right;\">\n",
       "      <th></th>\n",
       "      <th>id</th>\n",
       "      <th>date</th>\n",
       "      <th>store_nbr</th>\n",
       "      <th>family</th>\n",
       "      <th>sales</th>\n",
       "      <th>onpromotion</th>\n",
       "      <th>transactions</th>\n",
       "      <th>type_x</th>\n",
       "      <th>locale</th>\n",
       "      <th>locale_name</th>\n",
       "      <th>...</th>\n",
       "      <th>month</th>\n",
       "      <th>day</th>\n",
       "      <th>weekday</th>\n",
       "      <th>day_of_week</th>\n",
       "      <th>weekend</th>\n",
       "      <th>is_holiday</th>\n",
       "      <th>days_until_next_holiday</th>\n",
       "      <th>days_since_last_holiday</th>\n",
       "      <th>avg_sales_per_day</th>\n",
       "      <th>family_promotion_count</th>\n",
       "    </tr>\n",
       "  </thead>\n",
       "  <tbody>\n",
       "    <tr>\n",
       "      <th>0</th>\n",
       "      <td>561</td>\n",
       "      <td>2013-01-01</td>\n",
       "      <td>25</td>\n",
       "      <td>AUTOMOTIVE</td>\n",
       "      <td>0.0</td>\n",
       "      <td>0</td>\n",
       "      <td>770.0</td>\n",
       "      <td>Holiday</td>\n",
       "      <td>National</td>\n",
       "      <td>Ecuador</td>\n",
       "      <td>...</td>\n",
       "      <td>1</td>\n",
       "      <td>1</td>\n",
       "      <td>1</td>\n",
       "      <td>1</td>\n",
       "      <td>0</td>\n",
       "      <td>1</td>\n",
       "      <td>NaN</td>\n",
       "      <td>NaN</td>\n",
       "      <td>206.05064</td>\n",
       "      <td>0</td>\n",
       "    </tr>\n",
       "    <tr>\n",
       "      <th>1</th>\n",
       "      <td>562</td>\n",
       "      <td>2013-01-01</td>\n",
       "      <td>25</td>\n",
       "      <td>BABY CARE</td>\n",
       "      <td>0.0</td>\n",
       "      <td>0</td>\n",
       "      <td>770.0</td>\n",
       "      <td>Holiday</td>\n",
       "      <td>National</td>\n",
       "      <td>Ecuador</td>\n",
       "      <td>...</td>\n",
       "      <td>1</td>\n",
       "      <td>1</td>\n",
       "      <td>1</td>\n",
       "      <td>1</td>\n",
       "      <td>0</td>\n",
       "      <td>1</td>\n",
       "      <td>NaN</td>\n",
       "      <td>NaN</td>\n",
       "      <td>206.05064</td>\n",
       "      <td>0</td>\n",
       "    </tr>\n",
       "    <tr>\n",
       "      <th>2</th>\n",
       "      <td>563</td>\n",
       "      <td>2013-01-01</td>\n",
       "      <td>25</td>\n",
       "      <td>BEAUTY</td>\n",
       "      <td>2.0</td>\n",
       "      <td>0</td>\n",
       "      <td>770.0</td>\n",
       "      <td>Holiday</td>\n",
       "      <td>National</td>\n",
       "      <td>Ecuador</td>\n",
       "      <td>...</td>\n",
       "      <td>1</td>\n",
       "      <td>1</td>\n",
       "      <td>1</td>\n",
       "      <td>1</td>\n",
       "      <td>0</td>\n",
       "      <td>1</td>\n",
       "      <td>NaN</td>\n",
       "      <td>NaN</td>\n",
       "      <td>206.05064</td>\n",
       "      <td>0</td>\n",
       "    </tr>\n",
       "    <tr>\n",
       "      <th>3</th>\n",
       "      <td>564</td>\n",
       "      <td>2013-01-01</td>\n",
       "      <td>25</td>\n",
       "      <td>BEVERAGES</td>\n",
       "      <td>810.0</td>\n",
       "      <td>0</td>\n",
       "      <td>770.0</td>\n",
       "      <td>Holiday</td>\n",
       "      <td>National</td>\n",
       "      <td>Ecuador</td>\n",
       "      <td>...</td>\n",
       "      <td>1</td>\n",
       "      <td>1</td>\n",
       "      <td>1</td>\n",
       "      <td>1</td>\n",
       "      <td>0</td>\n",
       "      <td>1</td>\n",
       "      <td>NaN</td>\n",
       "      <td>NaN</td>\n",
       "      <td>206.05064</td>\n",
       "      <td>0</td>\n",
       "    </tr>\n",
       "    <tr>\n",
       "      <th>4</th>\n",
       "      <td>565</td>\n",
       "      <td>2013-01-01</td>\n",
       "      <td>25</td>\n",
       "      <td>BOOKS</td>\n",
       "      <td>0.0</td>\n",
       "      <td>0</td>\n",
       "      <td>770.0</td>\n",
       "      <td>Holiday</td>\n",
       "      <td>National</td>\n",
       "      <td>Ecuador</td>\n",
       "      <td>...</td>\n",
       "      <td>1</td>\n",
       "      <td>1</td>\n",
       "      <td>1</td>\n",
       "      <td>1</td>\n",
       "      <td>0</td>\n",
       "      <td>1</td>\n",
       "      <td>NaN</td>\n",
       "      <td>NaN</td>\n",
       "      <td>206.05064</td>\n",
       "      <td>0</td>\n",
       "    </tr>\n",
       "  </tbody>\n",
       "</table>\n",
       "<p>5 rows × 28 columns</p>\n",
       "</div>"
      ],
      "text/plain": [
       "    id       date  store_nbr      family  sales  onpromotion  transactions  \\\n",
       "0  561 2013-01-01         25  AUTOMOTIVE    0.0            0         770.0   \n",
       "1  562 2013-01-01         25   BABY CARE    0.0            0         770.0   \n",
       "2  563 2013-01-01         25      BEAUTY    2.0            0         770.0   \n",
       "3  564 2013-01-01         25   BEVERAGES  810.0            0         770.0   \n",
       "4  565 2013-01-01         25       BOOKS    0.0            0         770.0   \n",
       "\n",
       "    type_x    locale locale_name  ... month  day weekday day_of_week weekend  \\\n",
       "0  Holiday  National     Ecuador  ...     1    1       1           1       0   \n",
       "1  Holiday  National     Ecuador  ...     1    1       1           1       0   \n",
       "2  Holiday  National     Ecuador  ...     1    1       1           1       0   \n",
       "3  Holiday  National     Ecuador  ...     1    1       1           1       0   \n",
       "4  Holiday  National     Ecuador  ...     1    1       1           1       0   \n",
       "\n",
       "   is_holiday  days_until_next_holiday  days_since_last_holiday  \\\n",
       "0           1                      NaN                      NaN   \n",
       "1           1                      NaN                      NaN   \n",
       "2           1                      NaN                      NaN   \n",
       "3           1                      NaN                      NaN   \n",
       "4           1                      NaN                      NaN   \n",
       "\n",
       "   avg_sales_per_day  family_promotion_count  \n",
       "0          206.05064                       0  \n",
       "1          206.05064                       0  \n",
       "2          206.05064                       0  \n",
       "3          206.05064                       0  \n",
       "4          206.05064                       0  \n",
       "\n",
       "[5 rows x 28 columns]"
      ]
     },
     "execution_count": 79,
     "metadata": {},
     "output_type": "execute_result"
    }
   ],
   "source": [
    "sales_df.head()"
   ]
  },
  {
   "cell_type": "code",
   "execution_count": 80,
   "id": "23be4b23",
   "metadata": {},
   "outputs": [],
   "source": [
    "test_df = pd.read_csv('test.csv')"
   ]
  },
  {
   "cell_type": "code",
   "execution_count": 81,
   "id": "ed4f4e73",
   "metadata": {},
   "outputs": [
    {
     "data": {
      "text/plain": [
       "Index(['id', 'date', 'store_nbr', 'family', 'sales', 'onpromotion',\n",
       "       'transactions', 'type_x', 'locale', 'locale_name', 'description',\n",
       "       'transferred', 'city', 'state', 'type_y', 'cluster', 'dcoilwtico',\n",
       "       'year', 'month', 'day', 'weekday', 'day_of_week', 'weekend',\n",
       "       'is_holiday', 'days_until_next_holiday', 'days_since_last_holiday',\n",
       "       'avg_sales_per_day', 'family_promotion_count'],\n",
       "      dtype='object')"
      ]
     },
     "execution_count": 81,
     "metadata": {},
     "output_type": "execute_result"
    }
   ],
   "source": [
    "sales_df.columns"
   ]
  },
  {
   "cell_type": "code",
   "execution_count": 82,
   "id": "6ef93ca2",
   "metadata": {},
   "outputs": [
    {
     "name": "stdout",
     "output_type": "stream",
     "text": [
      "date\n",
      "2013-01-01    0.0\n",
      "2013-01-01    0.0\n",
      "2013-01-01    0.0\n",
      "2013-01-01    0.0\n",
      "2013-01-01    0.0\n",
      "Name: sales, dtype: float64\n"
     ]
    }
   ],
   "source": [
    "sales_df.sort_values(by='date', inplace=True)\n",
    "\n",
    "# Create a time series for training with 'date' as the index and 'sales' as the target variable\n",
    "train_series = sales_df.set_index('date')['sales']\n",
    "\n",
    "# Display the first few rows of the train_series\n",
    "print(train_series.head())"
   ]
  },
  {
   "cell_type": "code",
   "execution_count": 83,
   "id": "03336832",
   "metadata": {},
   "outputs": [
    {
     "data": {
      "text/plain": [
       "Index(['id', 'date', 'store_nbr', 'family', 'sales', 'onpromotion',\n",
       "       'transactions', 'type_x', 'locale', 'locale_name', 'description',\n",
       "       'transferred', 'city', 'state', 'type_y', 'cluster', 'dcoilwtico',\n",
       "       'year', 'month', 'day', 'weekday', 'day_of_week', 'weekend',\n",
       "       'is_holiday', 'days_until_next_holiday', 'days_since_last_holiday',\n",
       "       'avg_sales_per_day', 'family_promotion_count'],\n",
       "      dtype='object')"
      ]
     },
     "execution_count": 83,
     "metadata": {},
     "output_type": "execute_result"
    }
   ],
   "source": [
    "sales_df.columns"
   ]
  },
  {
   "cell_type": "code",
   "execution_count": 84,
   "id": "e5afe821",
   "metadata": {
    "scrolled": false
   },
   "outputs": [],
   "source": [
    "model_df = sales_df[['id','date', 'store_nbr',  'sales', 'onpromotion']].copy()"
   ]
  },
  {
   "cell_type": "code",
   "execution_count": 85,
   "id": "358f1fda",
   "metadata": {},
   "outputs": [],
   "source": [
    "# Rename columns to match Prophet's expectations\n",
    "model_df.rename(columns={'date': 'ds', 'sales': 'y'}, inplace=True)"
   ]
  },
  {
   "cell_type": "code",
   "execution_count": null,
   "id": "a93c8e3d",
   "metadata": {},
   "outputs": [],
   "source": [
    "# Assuming you have a DataFrame 'train_df' with columns 'ds' (date) and 'y' (target variable)\n",
    "model_prophet = Prophet()\n",
    "model_prophet.fit(model_df)"
   ]
  },
  {
   "cell_type": "code",
   "execution_count": null,
   "id": "0ab7727d",
   "metadata": {},
   "outputs": [],
   "source": [
    "n_forecast = 30 "
   ]
  },
  {
   "cell_type": "code",
   "execution_count": null,
   "id": "af7f994f",
   "metadata": {},
   "outputs": [],
   "source": [
    "# Create a DataFrame with future dates for forecasting\n",
    "future = model_prophet.make_future_dataframe(periods=n_forecast)"
   ]
  },
  {
   "cell_type": "code",
   "execution_count": null,
   "id": "83cd1f40",
   "metadata": {},
   "outputs": [],
   "source": [
    "# Make forecasts for future dates\n",
    "forecast_prophet = model_prophet.predict(future)"
   ]
  },
  {
   "cell_type": "code",
   "execution_count": null,
   "id": "3f2341c5",
   "metadata": {},
   "outputs": [],
   "source": [
    "test_df.columns"
   ]
  },
  {
   "cell_type": "code",
   "execution_count": null,
   "id": "46ff4cf2",
   "metadata": {},
   "outputs": [],
   "source": [
    "xgb_df = model_df[['id', 'ds','store_nbr', 'y', 'onpromotion']]"
   ]
  },
  {
   "cell_type": "code",
   "execution_count": null,
   "id": "305699e1",
   "metadata": {},
   "outputs": [],
   "source": [
    "# Assuming you have a DataFrame 'train_df' with features and 'y' as the target variable\n",
    "X = xgb_df.drop(columns=['y'])\n",
    "y = xgb_df['y']"
   ]
  },
  {
   "cell_type": "code",
   "execution_count": null,
   "id": "c0ad51c3",
   "metadata": {},
   "outputs": [],
   "source": [
    "# Split the data into training and validation sets\n",
    "X_train, X_valid, y_train, y_valid = train_test_split(X, y, test_size=0.2, random_state=42)"
   ]
  },
  {
   "cell_type": "code",
   "execution_count": null,
   "id": "734c96d0",
   "metadata": {},
   "outputs": [],
   "source": [
    "# Create an XGBoost regressor and set hyperparameters\n",
    "model_xgboost = xgb.XGBRegressor(n_estimators=100, max_depth=5, learning_rate=0.1, objective='reg:squarederror')"
   ]
  },
  {
   "cell_type": "code",
   "execution_count": null,
   "id": "242829fb",
   "metadata": {},
   "outputs": [],
   "source": [
    "# Drop the original 'ds' column if no longer needed\n",
    "model_df.drop(columns=['ds'], inplace=True)"
   ]
  },
  {
   "cell_type": "code",
   "execution_count": null,
   "id": "c6bb84f9",
   "metadata": {},
   "outputs": [],
   "source": [
    "# Convert 'ds' column to numerical features\n",
    "#model_df['year'] = model_df['ds'].dt.year\n",
    "#model_df['month'] = model_df['ds'].dt.month\n",
    "#model_df['day'] = model_df['ds'].dt.day\n",
    "#model_df['weekday'] = model_df['ds'].dt.weekday\n",
    "#model_df['day_of_week'] = model_df['ds'].dt.dayofweek\n",
    "#model_df['weekend'] = (model_df['ds'].dt.weekday >= 5).astype(int)\n",
    "\n",
    "# Drop the original 'ds' column if no longer needed\n",
    "#model_df.drop(columns=['ds'], inplace=True)"
   ]
  },
  {
   "cell_type": "code",
   "execution_count": null,
   "id": "0562b59a",
   "metadata": {},
   "outputs": [],
   "source": [
    "# Assuming you have a DataFrame 'xgb_df' with features and 'y' as the target variable\n",
    "X = xgb_df.drop(columns=['y', 'ds'])  # Exclude the 'ds' column\n",
    "y = xgb_df['y']"
   ]
  },
  {
   "cell_type": "code",
   "execution_count": null,
   "id": "bb820739",
   "metadata": {},
   "outputs": [],
   "source": [
    "# Split the data into training and validation sets\n",
    "X_train, X_valid, y_train, y_valid = train_test_split(X, y, test_size=0.2, random_state=42)"
   ]
  },
  {
   "cell_type": "code",
   "execution_count": null,
   "id": "fb67fab8",
   "metadata": {},
   "outputs": [],
   "source": [
    "# Create an XGBoost regressor and set hyperparameters\n",
    "model_xgboost = xgb.XGBRegressor(n_estimators=100, max_depth=5, learning_rate=0.1, objective='reg:squarederror')"
   ]
  },
  {
   "cell_type": "code",
   "execution_count": null,
   "id": "99bf4b75",
   "metadata": {},
   "outputs": [],
   "source": [
    "# Train the model\n",
    "model_xgboost.fit(X_train, y_train)"
   ]
  },
  {
   "cell_type": "code",
   "execution_count": null,
   "id": "5a259978",
   "metadata": {},
   "outputs": [],
   "source": [
    "model_df.columns"
   ]
  },
  {
   "cell_type": "code",
   "execution_count": null,
   "id": "8c6f0754",
   "metadata": {},
   "outputs": [],
   "source": [
    "xgb_test = test_df[['store_nbr', 'family', 'onpromotion']]"
   ]
  },
  {
   "cell_type": "code",
   "execution_count": null,
   "id": "3e2b59f1",
   "metadata": {},
   "outputs": [],
   "source": [
    "# Make predictions on the validation set\n",
    "predictions_xgboost = model_xgboost.predict(X_valid)"
   ]
  },
  {
   "cell_type": "code",
   "execution_count": null,
   "id": "fdc80dd1",
   "metadata": {},
   "outputs": [],
   "source": [
    "# Calculate Mean Absolute Error (MAE) as an evaluation metric\n",
    "mae_xgboost = mean_absolute_error(y_valid, predictions_xgboost)"
   ]
  },
  {
   "cell_type": "code",
   "execution_count": null,
   "id": "346be0c9",
   "metadata": {},
   "outputs": [],
   "source": [
    "# To make forecasts on the test data, use model_xgboost.predict(test_data)\n",
    "predictions_test_xgboost = model_xgboost.predict(xgb_test)"
   ]
  },
  {
   "cell_type": "code",
   "execution_count": null,
   "id": "6e462198",
   "metadata": {},
   "outputs": [],
   "source": [
    "# Assuming you have a time series 'train_series' as a pandas Series\n",
    "# Normalize the data using Min-Max scaling\n",
    "scaler = MinMaxScaler()\n",
    "train_data = scaler.fit_transform(train_series.values.reshape(-1, 1))"
   ]
  },
  {
   "cell_type": "code",
   "execution_count": null,
   "id": "b58e8535",
   "metadata": {},
   "outputs": [],
   "source": [
    "# Create sequences and labels for training\n",
    "sequence_length = 10  # Define the length of your input sequences\n",
    "X_train, y_train = [], []\n",
    "for i in range(len(train_data) - sequence_length):\n",
    "    X_train.append(train_data[i:i+sequence_length])\n",
    "    y_train.append(train_data[i+sequence_length])\n",
    "X_train, y_train = np.array(X_train), np.array(y_train)\n"
   ]
  },
  {
   "cell_type": "code",
   "execution_count": null,
   "id": "a059cc8a",
   "metadata": {},
   "outputs": [],
   "source": [
    "# Build an LSTM model\n",
    "model_lstm = tf.keras.Sequential([\n",
    "    tf.keras.layers.LSTM(50, activation='relu', input_shape=(sequence_length, 1)),\n",
    "    tf.keras.layers.Dense(1)\n",
    "])"
   ]
  },
  {
   "cell_type": "code",
   "execution_count": null,
   "id": "08dd4e99",
   "metadata": {},
   "outputs": [],
   "source": [
    "# Compile the model\n",
    "model_lstm.compile(optimizer='adam', loss='mean_squared_error')"
   ]
  },
  {
   "cell_type": "code",
   "execution_count": null,
   "id": "1046ad7f",
   "metadata": {},
   "outputs": [],
   "source": [
    "# Train the model\n",
    "model_lstm.fit(X_train, y_train, epochs=10, batch_size=32)"
   ]
  },
  {
   "cell_type": "code",
   "execution_count": null,
   "id": "5c0c2de4",
   "metadata": {},
   "outputs": [],
   "source": [
    "n_forecast = 30\n",
    "forecast_input = train_data[-sequence_length:].reshape(1, sequence_length, 1)\n",
    "forecast = model_lstm.predict(forecast_input)"
   ]
  },
  {
   "cell_type": "code",
   "execution_count": null,
   "id": "a8188623",
   "metadata": {},
   "outputs": [],
   "source": [
    "model_arima = ARIMA(train_series, order=(p, d, q))  \n",
    "model_arima_fit = model_arima.fit()"
   ]
  },
  {
   "cell_type": "code",
   "execution_count": null,
   "id": "a9a88096",
   "metadata": {},
   "outputs": [],
   "source": [
    "n_forecast = 30\n",
    "forecast_arima = model_arima_fit.forecast(steps=n_forecast)"
   ]
  },
  {
   "cell_type": "code",
   "execution_count": null,
   "id": "6e4bcb20",
   "metadata": {},
   "outputs": [],
   "source": []
  },
  {
   "cell_type": "code",
   "execution_count": null,
   "id": "c059cc1c",
   "metadata": {},
   "outputs": [],
   "source": []
  }
 ],
 "metadata": {
  "kernelspec": {
   "display_name": "Python 3 (ipykernel)",
   "language": "python",
   "name": "python3"
  },
  "language_info": {
   "codemirror_mode": {
    "name": "ipython",
    "version": 3
   },
   "file_extension": ".py",
   "mimetype": "text/x-python",
   "name": "python",
   "nbconvert_exporter": "python",
   "pygments_lexer": "ipython3",
   "version": "3.9.13"
  }
 },
 "nbformat": 4,
 "nbformat_minor": 5
}
